{
 "cells": [
  {
   "cell_type": "code",
   "execution_count": 1,
   "metadata": {},
   "outputs": [],
   "source": [
    "import os\n",
    "import pandas as pd\n",
    "from glob import glob"
   ]
  },
  {
   "cell_type": "markdown",
   "metadata": {},
   "source": [
    "#### Load Reviews csv"
   ]
  },
  {
   "cell_type": "code",
   "execution_count": 20,
   "metadata": {},
   "outputs": [
    {
     "name": "stdout",
     "output_type": "stream",
     "text": [
      " number of reviews is: 93\n"
     ]
    }
   ],
   "source": [
    "home_dir = 'c:\\\\Users\\\\DanaTal\\\\projects\\\\nlp\\\\Bridezilla_NLP'\n",
    "os.path.exists(home_dir)\n",
    "data_dir = os.path.join(home_dir, f'data')\n",
    "data_paths = glob(data_dir + '/reviews*.csv')\n",
    "i=1\n",
    "data_path = data_paths[i]\n",
    "df = pd.read_csv(data_paths[i])\n",
    "print(f' number of reviews is: {len(df)}')\n",
    "#df.head()\n",
    "\n"
   ]
  },
  {
   "cell_type": "markdown",
   "metadata": {},
   "source": [
    "### Clean reviews from unnecessary "
   ]
  },
  {
   "cell_type": "code",
   "execution_count": 21,
   "metadata": {},
   "outputs": [],
   "source": [
    "# Define the symbols to remove\n",
    "symbols_to_remove = \"€™\"\n",
    "\n",
    "# Remove the symbols\n",
    "def clean_text(text:str, symbols_to_remove:str):\n",
    "    clean_text = ''.join(char for char in text if char not in symbols_to_remove)\n",
    "    return clean_text\n",
    "\n",
    "df.text = df.text.apply(lambda x: clean_text(x, symbols_to_remove))"
   ]
  },
  {
   "cell_type": "markdown",
   "metadata": {},
   "source": [
    "#### BART Abstractive Summarizationm"
   ]
  },
  {
   "cell_type": "code",
   "execution_count": null,
   "metadata": {},
   "outputs": [],
   "source": []
  },
  {
   "cell_type": "code",
   "execution_count": 22,
   "metadata": {},
   "outputs": [
    {
     "name": "stderr",
     "output_type": "stream",
     "text": [
      "The tokenizer class you load from this checkpoint is not the same type as the class this function is called from. It may result in unexpected tokenization. \n",
      "The tokenizer class you load from this checkpoint is 'BartTokenizer'. \n",
      "The class this function is called from is 'PreTrainedTokenizerFast'.\n"
     ]
    }
   ],
   "source": [
    "from transformers import PreTrainedTokenizerFast, BartForConditionalGeneration\n",
    "\n",
    "model_name = \"ainize/bart-base-cnn\"\n",
    "#  Load Model and Tokenize\n",
    "tokenizer = PreTrainedTokenizerFast.from_pretrained(model_name)\n",
    "model = BartForConditionalGeneration.from_pretrained(model_name)"
   ]
  },
  {
   "cell_type": "code",
   "execution_count": 23,
   "metadata": {},
   "outputs": [],
   "source": [
    "# infer BART model\n",
    "for i, row in df.iterrows():\n",
    "    sequence = row.text\n",
    "    input = tokenizer.encode(sequence, return_tensors=\"pt\")\n",
    "    # Generate Summary Text Ids\n",
    "    summary_tokens = model.generate(\n",
    "        input_ids=input,\n",
    "        bos_token_id=model.config.bos_token_id,\n",
    "        eos_token_id=model.config.eos_token_id,\n",
    "        length_penalty=2.0,\n",
    "        max_length=100,\n",
    "        min_length=1,\n",
    "        num_beams=4,\n",
    "    )\n",
    "    summary = tokenizer.decode(summary_tokens[0], skip_special_tokens=True)\n",
    "    df.at[i, \"summary\"] = summary"
   ]
  },
  {
   "cell_type": "code",
   "execution_count": 28,
   "metadata": {},
   "outputs": [],
   "source": [
    "# Save the output\n",
    "summariztion_output_dir = os.path.join(home_dir, f\"outputs\\\\summarization\")\n",
    "os.makedirs(summariztion_output_dir, exist_ok=True)"
   ]
  },
  {
   "cell_type": "code",
   "execution_count": 29,
   "metadata": {},
   "outputs": [
    {
     "data": {
      "text/plain": [
       "'reviews_Villa Niki'"
      ]
     },
     "execution_count": 29,
     "metadata": {},
     "output_type": "execute_result"
    }
   ],
   "source": [
    "business_name = data_path.split('\\\\')[-1].split('.')[0]\n",
    "business_name"
   ]
  },
  {
   "cell_type": "code",
   "execution_count": 30,
   "metadata": {},
   "outputs": [],
   "source": [
    "summariztion_output_path = os.path.join(summariztion_output_dir, f'base-bart_{business_name}.csv')\n",
    "df.to_csv(summariztion_output_path)"
   ]
  },
  {
   "cell_type": "code",
   "execution_count": null,
   "metadata": {},
   "outputs": [],
   "source": []
  }
 ],
 "metadata": {
  "kernelspec": {
   "display_name": "dana",
   "language": "python",
   "name": "python3"
  },
  "language_info": {
   "codemirror_mode": {
    "name": "ipython",
    "version": 3
   },
   "file_extension": ".py",
   "mimetype": "text/x-python",
   "name": "python",
   "nbconvert_exporter": "python",
   "pygments_lexer": "ipython3",
   "version": "3.11.5"
  }
 },
 "nbformat": 4,
 "nbformat_minor": 2
}
