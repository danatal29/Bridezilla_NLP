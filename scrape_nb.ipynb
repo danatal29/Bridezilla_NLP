{
 "cells": [
  {
   "cell_type": "markdown",
   "metadata": {},
   "source": [
    "### Define URL for download and initiate webdriver"
   ]
  },
  {
   "cell_type": "code",
   "execution_count": 17,
   "metadata": {
    "ExecuteTime": {
     "end_time": "2024-04-18T09:31:03.624087500Z",
     "start_time": "2024-04-18T09:30:57.937193100Z"
    }
   },
   "outputs": [],
   "source": [
    "from selenium import webdriver\n",
    "from selenium.webdriver.common.by import By\n",
    "from selenium.webdriver.support.ui import WebDriverWait\n",
    "from selenium.webdriver.support import expected_conditions as EC\n",
    "\n",
    "driver = webdriver.Chrome()  # Or whichever browser/driver you're using\n",
    "\n",
    "\n",
    "# Insert URL of the reviews page of the place\n",
    "url1 = 'https://www.google.com/maps/place/Old-Phoenix+Rooms+%26+Restaurant/@35.1999187,24.0721182,15z/data=!4m11!3m10!1s0x136061919fe41577:0x609b596cdbd2b8be!5m2!4m1!1i2!8m2!3d35.1999187!4d24.0721182!9m1!1b1!16s%2Fg%2F1tml7nv7?entry=ttu'\n",
    "\n",
    "url2 = 'https://www.google.com/maps/place/Villa+Niki/@35.1991542,24.0706977,16.41z/data=!4m24!1m12!3m11!1s0x136061919fe41577:0x609b596cdbd2b8be!2sOld-Phoenix+Rooms+%26+Restaurant!5m2!4m1!1i2!8m2!3d35.1999187!4d24.0721182!9m1!1b1!16s%2Fg%2F1tml7nv7!3m10!1s0x149c9ee60031954f:0x939da5cbfcd24dbc!5m2!4m1!1i2!8m2!3d35.200207!4d24.078342!9m1!1b1!16s%2Fg%2F12hy_j8gk?hl=en&entry=ttu'\n",
    "driver.get(url2)"
   ]
  },
  {
   "cell_type": "markdown",
   "source": [
    "### Translating the webpage into English"
   ],
   "metadata": {
    "collapsed": false
   }
  },
  {
   "cell_type": "code",
   "execution_count": 31,
   "metadata": {
    "ExecuteTime": {
     "end_time": "2024-04-18T09:43:47.364785300Z",
     "start_time": "2024-04-18T09:43:45.306425500Z"
    }
   },
   "outputs": [],
   "source": [
    "\n",
    "# xpath = \"//button[contains(., 'ביקורות') or contains(., 'REVIEWS')]\"\n",
    "wait = WebDriverWait(driver, 2)\n",
    "menu_xpath = '//*[@id=\"QA0Szd\"]/div/div/div[1]/div[1]/ul/li[1]/button/div'\n",
    "menu_xpath = wait.until(EC.element_to_be_clickable((By.XPATH, menu_xpath)))\n",
    "menu_xpath.click()\n",
    "wait = WebDriverWait(driver, 1)\n",
    "lan = '//*[@id=\"settings\"]/div/div[2]/ul/div[7]/li[1]/button'\n",
    "language_button = wait.until(EC.element_to_be_clickable((By.XPATH, lan)))\n",
    "language_button.click()\n",
    "wait = WebDriverWait(driver, 1)\n",
    "\n",
    "# click on the english language\n",
    "english_xpath = '//*[@id=\"modal-dialog\"]/div/div[2]/div/div[2]/div/div/div/div[3]/div[1]/div[11]/a'\n",
    "anchor_element = WebDriverWait(driver, 10).until(\n",
    "    EC.element_to_be_clickable((By.XPATH, english_xpath))\n",
    ")\n",
    "anchor_element.click()"
   ]
  },
  {
   "cell_type": "code",
   "execution_count": 34,
   "outputs": [
    {
     "name": "stdout",
     "output_type": "stream",
     "text": [
      "The place has 83 reviews on google\n"
     ]
    }
   ],
   "source": [
    "# print the total number of reviews\n",
    "xpath = \"//*[@id='QA0Szd']/div/div/div[1]/div[2]/div/div[1]/div/div/div[4]/div[2]/div/div[2]/div[3]\"\n",
    "total_number_of_reviews = driver.find_element(By.XPATH, xpath).text.split(\" \")[0]\n",
    "total_number_of_reviews = int(total_number_of_reviews.replace(',','')) if ',' in total_number_of_reviews else int(total_number_of_reviews)\n",
    "print(f\"The place has {total_number_of_reviews} reviews on google\")"
   ],
   "metadata": {
    "collapsed": false,
    "ExecuteTime": {
     "end_time": "2024-04-18T09:44:54.347945700Z",
     "start_time": "2024-04-18T09:44:54.302028600Z"
    }
   }
  },
  {
   "cell_type": "markdown",
   "source": [
    "### Scrolling down the webpage"
   ],
   "metadata": {
    "collapsed": false
   }
  },
  {
   "cell_type": "code",
   "execution_count": 35,
   "metadata": {
    "ExecuteTime": {
     "end_time": "2024-04-18T09:45:36.455215900Z",
     "start_time": "2024-04-18T09:44:55.526698700Z"
    }
   },
   "outputs": [
    {
     "name": "stdout",
     "output_type": "stream",
     "text": [
      "Could not click on a 'More' button: Message: element click intercepted: Element <button class=\"w8nwRe kyuRq\" aria-expanded=\"false\" aria-controls=\"ChdDSUhNMG9nS0VJQ0FnSUQwdVpqUm9RRRAB\" data-review-id=\"ChdDSUhNMG9nS0VJQ0FnSUQwdVpqUm9RRRAB\" jslog=\"63707; track:click;metadata:WyIwYWhVS0V3aVBfNWlYdmN1RkF4WHp3Z0lISGZUOURKMFEwcE1GQ0FJb0FBIl0=\" aria-label=\"See more\" jsaction=\"pane.wfvdle40.review.expandReview\">...</button> is not clickable at point (210, 222). Other element would receive the click: <span class=\"xRkPPb\">...</span>\n",
      "  (Session info: chrome=123.0.6312.107)\n",
      "Stacktrace:\n",
      "\tGetHandleVerifier [0x00007FF720DE7032+63090]\n",
      "\t(No symbol) [0x00007FF720D52C82]\n",
      "\t(No symbol) [0x00007FF720BEEC65]\n",
      "\t(No symbol) [0x00007FF720C3BB34]\n",
      "\t(No symbol) [0x00007FF720C39954]\n",
      "\t(No symbol) [0x00007FF720C37164]\n",
      "\t(No symbol) [0x00007FF720C35EF9]\n",
      "\t(No symbol) [0x00007FF720C2A708]\n",
      "\t(No symbol) [0x00007FF720C56FDA]\n",
      "\t(No symbol) [0x00007FF720C2A00A]\n",
      "\t(No symbol) [0x00007FF720C571F0]\n",
      "\t(No symbol) [0x00007FF720C73412]\n",
      "\t(No symbol) [0x00007FF720C56D83]\n",
      "\t(No symbol) [0x00007FF720C283A8]\n",
      "\t(No symbol) [0x00007FF720C29441]\n",
      "\tGetHandleVerifier [0x00007FF7211E25AD+4238317]\n",
      "\tGetHandleVerifier [0x00007FF72121F70D+4488525]\n",
      "\tGetHandleVerifier [0x00007FF7212179EF+4456495]\n",
      "\tGetHandleVerifier [0x00007FF720EC0576+953270]\n",
      "\t(No symbol) [0x00007FF720D5E54F]\n",
      "\t(No symbol) [0x00007FF720D59224]\n",
      "\t(No symbol) [0x00007FF720D5935B]\n",
      "\t(No symbol) [0x00007FF720D49B94]\n",
      "\tBaseThreadInitThunk [0x00007FFB8ADA7344+20]\n",
      "\tRtlUserThreadStart [0x00007FFB8C8026B1+33]\n",
      "Could not click on a 'More' button: Message: element click intercepted: Element <button class=\"w8nwRe kyuRq\" aria-expanded=\"false\" aria-controls=\"ChdDSUhNMG9nS0VJQ0FnSUQwdVpqUm9RRRAB\" data-review-id=\"ChdDSUhNMG9nS0VJQ0FnSUQwdVpqUm9RRRAB\" jslog=\"63707; track:click;metadata:WyIwYWhVS0V3aVBfNWlYdmN1RkF4WHp3Z0lISGZUOURKMFEwcE1GQ0FJb0FBIl0=\" aria-label=\"See more\" jsaction=\"pane.wfvdle40.review.expandReview\">...</button> is not clickable at point (210, 222). Other element would receive the click: <div jsaction=\"modal.backgroundClick\" class=\"hoUMge\">...</div>\n",
      "  (Session info: chrome=123.0.6312.107)\n",
      "Stacktrace:\n",
      "\tGetHandleVerifier [0x00007FF720DE7032+63090]\n",
      "\t(No symbol) [0x00007FF720D52C82]\n",
      "\t(No symbol) [0x00007FF720BEEC65]\n",
      "\t(No symbol) [0x00007FF720C3BB34]\n",
      "\t(No symbol) [0x00007FF720C39954]\n",
      "\t(No symbol) [0x00007FF720C37164]\n",
      "\t(No symbol) [0x00007FF720C35EF9]\n",
      "\t(No symbol) [0x00007FF720C2A708]\n",
      "\t(No symbol) [0x00007FF720C56FDA]\n",
      "\t(No symbol) [0x00007FF720C2A00A]\n",
      "\t(No symbol) [0x00007FF720C571F0]\n",
      "\t(No symbol) [0x00007FF720C73412]\n",
      "\t(No symbol) [0x00007FF720C56D83]\n",
      "\t(No symbol) [0x00007FF720C283A8]\n",
      "\t(No symbol) [0x00007FF720C29441]\n",
      "\tGetHandleVerifier [0x00007FF7211E25AD+4238317]\n",
      "\tGetHandleVerifier [0x00007FF72121F70D+4488525]\n",
      "\tGetHandleVerifier [0x00007FF7212179EF+4456495]\n",
      "\tGetHandleVerifier [0x00007FF720EC0576+953270]\n",
      "\t(No symbol) [0x00007FF720D5E54F]\n",
      "\t(No symbol) [0x00007FF720D59224]\n",
      "\t(No symbol) [0x00007FF720D5935B]\n",
      "\t(No symbol) [0x00007FF720D49B94]\n",
      "\tBaseThreadInitThunk [0x00007FFB8ADA7344+20]\n",
      "\tRtlUserThreadStart [0x00007FFB8C8026B1+33]\n",
      "Could not click on a 'More' button: Message: element click intercepted: Element <button class=\"w8nwRe kyuRq\" aria-expanded=\"false\" aria-controls=\"ChdDSUhNMG9nS0VJQ0FnSUQwdVpqUm9RRRAB\" data-review-id=\"ChdDSUhNMG9nS0VJQ0FnSUQwdVpqUm9RRRAB\" jslog=\"63707; track:click;metadata:WyIwYWhVS0V3aVBfNWlYdmN1RkF4WHp3Z0lISGZUOURKMFEwcE1GQ0FJb0FBIl0=\" aria-label=\"See more\" jsaction=\"pane.wfvdle40.review.expandReview\">...</button> is not clickable at point (210, 222). Other element would receive the click: <div jsaction=\"modal.backgroundClick\" class=\"hoUMge\">...</div>\n",
      "  (Session info: chrome=123.0.6312.107)\n",
      "Stacktrace:\n",
      "\tGetHandleVerifier [0x00007FF720DE7032+63090]\n",
      "\t(No symbol) [0x00007FF720D52C82]\n",
      "\t(No symbol) [0x00007FF720BEEC65]\n",
      "\t(No symbol) [0x00007FF720C3BB34]\n",
      "\t(No symbol) [0x00007FF720C39954]\n",
      "\t(No symbol) [0x00007FF720C37164]\n",
      "\t(No symbol) [0x00007FF720C35EF9]\n",
      "\t(No symbol) [0x00007FF720C2A708]\n",
      "\t(No symbol) [0x00007FF720C56FDA]\n",
      "\t(No symbol) [0x00007FF720C2A00A]\n",
      "\t(No symbol) [0x00007FF720C571F0]\n",
      "\t(No symbol) [0x00007FF720C73412]\n",
      "\t(No symbol) [0x00007FF720C56D83]\n",
      "\t(No symbol) [0x00007FF720C283A8]\n",
      "\t(No symbol) [0x00007FF720C29441]\n",
      "\tGetHandleVerifier [0x00007FF7211E25AD+4238317]\n",
      "\tGetHandleVerifier [0x00007FF72121F70D+4488525]\n",
      "\tGetHandleVerifier [0x00007FF7212179EF+4456495]\n",
      "\tGetHandleVerifier [0x00007FF720EC0576+953270]\n",
      "\t(No symbol) [0x00007FF720D5E54F]\n",
      "\t(No symbol) [0x00007FF720D59224]\n",
      "\t(No symbol) [0x00007FF720D5935B]\n",
      "\t(No symbol) [0x00007FF720D49B94]\n",
      "\tBaseThreadInitThunk [0x00007FFB8ADA7344+20]\n",
      "\tRtlUserThreadStart [0x00007FFB8C8026B1+33]\n",
      "Could not click on a 'More' button: Message: element click intercepted: Element <button class=\"w8nwRe kyuRq\" aria-expanded=\"false\" aria-controls=\"ChdDSUhNMG9nS0VJQ0FnSUQwdVpqUm9RRRAB\" data-review-id=\"ChdDSUhNMG9nS0VJQ0FnSUQwdVpqUm9RRRAB\" jslog=\"63707; track:click;metadata:WyIwYWhVS0V3aVBfNWlYdmN1RkF4WHp3Z0lISGZUOURKMFEwcE1GQ0FJb0FBIl0=\" aria-label=\"See more\" jsaction=\"pane.wfvdle40.review.expandReview\">...</button> is not clickable at point (210, 222). Other element would receive the click: <div jsaction=\"modal.backgroundClick\" class=\"hoUMge\">...</div>\n",
      "  (Session info: chrome=123.0.6312.107)\n",
      "Stacktrace:\n",
      "\tGetHandleVerifier [0x00007FF720DE7032+63090]\n",
      "\t(No symbol) [0x00007FF720D52C82]\n",
      "\t(No symbol) [0x00007FF720BEEC65]\n",
      "\t(No symbol) [0x00007FF720C3BB34]\n",
      "\t(No symbol) [0x00007FF720C39954]\n",
      "\t(No symbol) [0x00007FF720C37164]\n",
      "\t(No symbol) [0x00007FF720C35EF9]\n",
      "\t(No symbol) [0x00007FF720C2A708]\n",
      "\t(No symbol) [0x00007FF720C56FDA]\n",
      "\t(No symbol) [0x00007FF720C2A00A]\n",
      "\t(No symbol) [0x00007FF720C571F0]\n",
      "\t(No symbol) [0x00007FF720C73412]\n",
      "\t(No symbol) [0x00007FF720C56D83]\n",
      "\t(No symbol) [0x00007FF720C283A8]\n",
      "\t(No symbol) [0x00007FF720C29441]\n",
      "\tGetHandleVerifier [0x00007FF7211E25AD+4238317]\n",
      "\tGetHandleVerifier [0x00007FF72121F70D+4488525]\n",
      "\tGetHandleVerifier [0x00007FF7212179EF+4456495]\n",
      "\tGetHandleVerifier [0x00007FF720EC0576+953270]\n",
      "\t(No symbol) [0x00007FF720D5E54F]\n",
      "\t(No symbol) [0x00007FF720D59224]\n",
      "\t(No symbol) [0x00007FF720D5935B]\n",
      "\t(No symbol) [0x00007FF720D49B94]\n",
      "\tBaseThreadInitThunk [0x00007FFB8ADA7344+20]\n",
      "\tRtlUserThreadStart [0x00007FFB8C8026B1+33]\n",
      "Could not click on a 'More' button: Message: element click intercepted: Element <button class=\"w8nwRe kyuRq\" aria-expanded=\"false\" aria-controls=\"ChdDSUhNMG9nS0VJQ0FnSUQwdVpqUm9RRRAB\" data-review-id=\"ChdDSUhNMG9nS0VJQ0FnSUQwdVpqUm9RRRAB\" jslog=\"63707; track:click;metadata:WyIwYWhVS0V3aVBfNWlYdmN1RkF4WHp3Z0lISGZUOURKMFEwcE1GQ0FJb0FBIl0=\" aria-label=\"See more\" jsaction=\"pane.wfvdle40.review.expandReview\">...</button> is not clickable at point (210, 222). Other element would receive the click: <div jsaction=\"modal.backgroundClick\" class=\"hoUMge\">...</div>\n",
      "  (Session info: chrome=123.0.6312.107)\n",
      "Stacktrace:\n",
      "\tGetHandleVerifier [0x00007FF720DE7032+63090]\n",
      "\t(No symbol) [0x00007FF720D52C82]\n",
      "\t(No symbol) [0x00007FF720BEEC65]\n",
      "\t(No symbol) [0x00007FF720C3BB34]\n",
      "\t(No symbol) [0x00007FF720C39954]\n",
      "\t(No symbol) [0x00007FF720C37164]\n",
      "\t(No symbol) [0x00007FF720C35EF9]\n",
      "\t(No symbol) [0x00007FF720C2A708]\n",
      "\t(No symbol) [0x00007FF720C56FDA]\n",
      "\t(No symbol) [0x00007FF720C2A00A]\n",
      "\t(No symbol) [0x00007FF720C571F0]\n",
      "\t(No symbol) [0x00007FF720C73412]\n",
      "\t(No symbol) [0x00007FF720C56D83]\n",
      "\t(No symbol) [0x00007FF720C283A8]\n",
      "\t(No symbol) [0x00007FF720C29441]\n",
      "\tGetHandleVerifier [0x00007FF7211E25AD+4238317]\n",
      "\tGetHandleVerifier [0x00007FF72121F70D+4488525]\n",
      "\tGetHandleVerifier [0x00007FF7212179EF+4456495]\n",
      "\tGetHandleVerifier [0x00007FF720EC0576+953270]\n",
      "\t(No symbol) [0x00007FF720D5E54F]\n",
      "\t(No symbol) [0x00007FF720D59224]\n",
      "\t(No symbol) [0x00007FF720D5935B]\n",
      "\t(No symbol) [0x00007FF720D49B94]\n",
      "\tBaseThreadInitThunk [0x00007FFB8ADA7344+20]\n",
      "\tRtlUserThreadStart [0x00007FFB8C8026B1+33]\n",
      "Could not click on a 'More' button: Message: element click intercepted: Element <button class=\"w8nwRe kyuRq\" aria-expanded=\"false\" aria-controls=\"ChdDSUhNMG9nS0VJQ0FnSUQwdVpqUm9RRRAB\" data-review-id=\"ChdDSUhNMG9nS0VJQ0FnSUQwdVpqUm9RRRAB\" jslog=\"63707; track:click;metadata:WyIwYWhVS0V3aVBfNWlYdmN1RkF4WHp3Z0lISGZUOURKMFEwcE1GQ0FJb0FBIl0=\" aria-label=\"See more\" jsaction=\"pane.wfvdle40.review.expandReview\">...</button> is not clickable at point (210, 222). Other element would receive the click: <div jsaction=\"modal.backgroundClick\" class=\"hoUMge\">...</div>\n",
      "  (Session info: chrome=123.0.6312.107)\n",
      "Stacktrace:\n",
      "\tGetHandleVerifier [0x00007FF720DE7032+63090]\n",
      "\t(No symbol) [0x00007FF720D52C82]\n",
      "\t(No symbol) [0x00007FF720BEEC65]\n",
      "\t(No symbol) [0x00007FF720C3BB34]\n",
      "\t(No symbol) [0x00007FF720C39954]\n",
      "\t(No symbol) [0x00007FF720C37164]\n",
      "\t(No symbol) [0x00007FF720C35EF9]\n",
      "\t(No symbol) [0x00007FF720C2A708]\n",
      "\t(No symbol) [0x00007FF720C56FDA]\n",
      "\t(No symbol) [0x00007FF720C2A00A]\n",
      "\t(No symbol) [0x00007FF720C571F0]\n",
      "\t(No symbol) [0x00007FF720C73412]\n",
      "\t(No symbol) [0x00007FF720C56D83]\n",
      "\t(No symbol) [0x00007FF720C283A8]\n",
      "\t(No symbol) [0x00007FF720C29441]\n",
      "\tGetHandleVerifier [0x00007FF7211E25AD+4238317]\n",
      "\tGetHandleVerifier [0x00007FF72121F70D+4488525]\n",
      "\tGetHandleVerifier [0x00007FF7212179EF+4456495]\n",
      "\tGetHandleVerifier [0x00007FF720EC0576+953270]\n",
      "\t(No symbol) [0x00007FF720D5E54F]\n",
      "\t(No symbol) [0x00007FF720D59224]\n",
      "\t(No symbol) [0x00007FF720D5935B]\n",
      "\t(No symbol) [0x00007FF720D49B94]\n",
      "\tBaseThreadInitThunk [0x00007FFB8ADA7344+20]\n",
      "\tRtlUserThreadStart [0x00007FFB8C8026B1+33]\n",
      "Could not click on a 'More' button: Message: element click intercepted: Element <button class=\"w8nwRe kyuRq\" aria-expanded=\"false\" aria-controls=\"ChdDSUhNMG9nS0VJQ0FnSUQwdVpqUm9RRRAB\" data-review-id=\"ChdDSUhNMG9nS0VJQ0FnSUQwdVpqUm9RRRAB\" jslog=\"63707; track:click;metadata:WyIwYWhVS0V3aVBfNWlYdmN1RkF4WHp3Z0lISGZUOURKMFEwcE1GQ0FJb0FBIl0=\" aria-label=\"See more\" jsaction=\"pane.wfvdle40.review.expandReview\">...</button> is not clickable at point (210, 222). Other element would receive the click: <div jsaction=\"modal.backgroundClick\" class=\"hoUMge\">...</div>\n",
      "  (Session info: chrome=123.0.6312.107)\n",
      "Stacktrace:\n",
      "\tGetHandleVerifier [0x00007FF720DE7032+63090]\n",
      "\t(No symbol) [0x00007FF720D52C82]\n",
      "\t(No symbol) [0x00007FF720BEEC65]\n",
      "\t(No symbol) [0x00007FF720C3BB34]\n",
      "\t(No symbol) [0x00007FF720C39954]\n",
      "\t(No symbol) [0x00007FF720C37164]\n",
      "\t(No symbol) [0x00007FF720C35EF9]\n",
      "\t(No symbol) [0x00007FF720C2A708]\n",
      "\t(No symbol) [0x00007FF720C56FDA]\n",
      "\t(No symbol) [0x00007FF720C2A00A]\n",
      "\t(No symbol) [0x00007FF720C571F0]\n",
      "\t(No symbol) [0x00007FF720C73412]\n",
      "\t(No symbol) [0x00007FF720C56D83]\n",
      "\t(No symbol) [0x00007FF720C283A8]\n",
      "\t(No symbol) [0x00007FF720C29441]\n",
      "\tGetHandleVerifier [0x00007FF7211E25AD+4238317]\n",
      "\tGetHandleVerifier [0x00007FF72121F70D+4488525]\n",
      "\tGetHandleVerifier [0x00007FF7212179EF+4456495]\n",
      "\tGetHandleVerifier [0x00007FF720EC0576+953270]\n",
      "\t(No symbol) [0x00007FF720D5E54F]\n",
      "\t(No symbol) [0x00007FF720D59224]\n",
      "\t(No symbol) [0x00007FF720D5935B]\n",
      "\t(No symbol) [0x00007FF720D49B94]\n",
      "\tBaseThreadInitThunk [0x00007FFB8ADA7344+20]\n",
      "\tRtlUserThreadStart [0x00007FFB8C8026B1+33]\n",
      "Could not click on a 'More' button: Message: element click intercepted: Element <button class=\"w8nwRe kyuRq\" aria-expanded=\"false\" aria-controls=\"ChdDSUhNMG9nS0VJQ0FnSUQwdVpqUm9RRRAB\" data-review-id=\"ChdDSUhNMG9nS0VJQ0FnSUQwdVpqUm9RRRAB\" jslog=\"63707; track:click;metadata:WyIwYWhVS0V3aVBfNWlYdmN1RkF4WHp3Z0lISGZUOURKMFEwcE1GQ0FJb0FBIl0=\" aria-label=\"See more\" jsaction=\"pane.wfvdle40.review.expandReview\">...</button> is not clickable at point (210, 201). Other element would receive the click: <div jsaction=\"modal.backgroundClick\" class=\"hoUMge\">...</div>\n",
      "  (Session info: chrome=123.0.6312.107)\n",
      "Stacktrace:\n",
      "\tGetHandleVerifier [0x00007FF720DE7032+63090]\n",
      "\t(No symbol) [0x00007FF720D52C82]\n",
      "\t(No symbol) [0x00007FF720BEEC65]\n",
      "\t(No symbol) [0x00007FF720C3BB34]\n",
      "\t(No symbol) [0x00007FF720C39954]\n",
      "\t(No symbol) [0x00007FF720C37164]\n",
      "\t(No symbol) [0x00007FF720C35EF9]\n",
      "\t(No symbol) [0x00007FF720C2A708]\n",
      "\t(No symbol) [0x00007FF720C56FDA]\n",
      "\t(No symbol) [0x00007FF720C2A00A]\n",
      "\t(No symbol) [0x00007FF720C571F0]\n",
      "\t(No symbol) [0x00007FF720C73412]\n",
      "\t(No symbol) [0x00007FF720C56D83]\n",
      "\t(No symbol) [0x00007FF720C283A8]\n",
      "\t(No symbol) [0x00007FF720C29441]\n",
      "\tGetHandleVerifier [0x00007FF7211E25AD+4238317]\n",
      "\tGetHandleVerifier [0x00007FF72121F70D+4488525]\n",
      "\tGetHandleVerifier [0x00007FF7212179EF+4456495]\n",
      "\tGetHandleVerifier [0x00007FF720EC0576+953270]\n",
      "\t(No symbol) [0x00007FF720D5E54F]\n",
      "\t(No symbol) [0x00007FF720D59224]\n",
      "\t(No symbol) [0x00007FF720D5935B]\n",
      "\t(No symbol) [0x00007FF720D49B94]\n",
      "\tBaseThreadInitThunk [0x00007FFB8ADA7344+20]\n",
      "\tRtlUserThreadStart [0x00007FFB8C8026B1+33]\n",
      "Could not click on a 'More' button: Message: element click intercepted: Element <button class=\"w8nwRe kyuRq\" aria-expanded=\"false\" aria-controls=\"ChdDSUhNMG9nS0VJQ0FnSUQwdVpqUm9RRRAB\" data-review-id=\"ChdDSUhNMG9nS0VJQ0FnSUQwdVpqUm9RRRAB\" jslog=\"63707; track:click;metadata:WyIwYWhVS0V3aVBfNWlYdmN1RkF4WHp3Z0lISGZUOURKMFEwcE1GQ0FJb0FBIl0=\" aria-label=\"See more\" jsaction=\"pane.wfvdle40.review.expandReview\">...</button> is not clickable at point (210, 222). Other element would receive the click: <div class=\"DU9Pgb\">...</div>\n",
      "  (Session info: chrome=123.0.6312.107)\n",
      "Stacktrace:\n",
      "\tGetHandleVerifier [0x00007FF720DE7032+63090]\n",
      "\t(No symbol) [0x00007FF720D52C82]\n",
      "\t(No symbol) [0x00007FF720BEEC65]\n",
      "\t(No symbol) [0x00007FF720C3BB34]\n",
      "\t(No symbol) [0x00007FF720C39954]\n",
      "\t(No symbol) [0x00007FF720C37164]\n",
      "\t(No symbol) [0x00007FF720C35EF9]\n",
      "\t(No symbol) [0x00007FF720C2A708]\n",
      "\t(No symbol) [0x00007FF720C56FDA]\n",
      "\t(No symbol) [0x00007FF720C2A00A]\n",
      "\t(No symbol) [0x00007FF720C571F0]\n",
      "\t(No symbol) [0x00007FF720C73412]\n",
      "\t(No symbol) [0x00007FF720C56D83]\n",
      "\t(No symbol) [0x00007FF720C283A8]\n",
      "\t(No symbol) [0x00007FF720C29441]\n",
      "\tGetHandleVerifier [0x00007FF7211E25AD+4238317]\n",
      "\tGetHandleVerifier [0x00007FF72121F70D+4488525]\n",
      "\tGetHandleVerifier [0x00007FF7212179EF+4456495]\n",
      "\tGetHandleVerifier [0x00007FF720EC0576+953270]\n",
      "\t(No symbol) [0x00007FF720D5E54F]\n",
      "\t(No symbol) [0x00007FF720D59224]\n",
      "\t(No symbol) [0x00007FF720D5935B]\n",
      "\t(No symbol) [0x00007FF720D49B94]\n",
      "\tBaseThreadInitThunk [0x00007FFB8ADA7344+20]\n",
      "\tRtlUserThreadStart [0x00007FFB8C8026B1+33]\n"
     ]
    },
    {
     "ename": "KeyboardInterrupt",
     "evalue": "",
     "output_type": "error",
     "traceback": [
      "\u001B[1;31m---------------------------------------------------------------------------\u001B[0m",
      "\u001B[1;31mKeyboardInterrupt\u001B[0m                         Traceback (most recent call last)",
      "Cell \u001B[1;32mIn[35], line 25\u001B[0m\n\u001B[0;32m     23\u001B[0m body\u001B[38;5;241m.\u001B[39msend_keys(Keys\u001B[38;5;241m.\u001B[39mPAGE_DOWN)\n\u001B[0;32m     24\u001B[0m expand_more_buttons(driver)\n\u001B[1;32m---> 25\u001B[0m \u001B[43mtime\u001B[49m\u001B[38;5;241;43m.\u001B[39;49m\u001B[43msleep\u001B[49m\u001B[43m(\u001B[49m\u001B[38;5;241;43m1\u001B[39;49m\u001B[43m)\u001B[49m\n",
      "\u001B[1;31mKeyboardInterrupt\u001B[0m: "
     ]
    }
   ],
   "source": [
    "import time\n",
    "from selenium.webdriver.common.keys import Keys\n",
    "\n",
    "\n",
    "# click on the \"more\" button on long reviews\n",
    "def expand_more_buttons(driver):\n",
    "    # Using the aria-label to find the \"More\" buttons\n",
    "    more_buttons = driver.find_elements(By.XPATH, \"//button[@aria-label='See more']\")\n",
    "\n",
    "    for button in more_buttons:\n",
    "        try:\n",
    "            # Scroll the button into view first\n",
    "            driver.execute_script(\"arguments[0].scrollIntoView();\", button)\n",
    "            # Wait until the button is clickable\n",
    "            WebDriverWait(driver, 5).until(EC.element_to_be_clickable(button)).click()\n",
    "        except Exception as e:\n",
    "            print(\"Could not click on a 'More' button:\", e)\n",
    "            continue  # If a button can't be clicked, move to the next one\n",
    "\n",
    "# Scrolling by sending PAGE_DOWN key presses\n",
    "body = driver.find_element(By.XPATH, \"//div[contains(@class, 'm6QErb') and contains(@class, 'DxyBCb') and contains(@class, 'kA9KIf') and contains(@class, 'dS8AEf')]\")\n",
    "for _ in range(total_number_of_reviews):  # Adjust the range according to the number of scrolls needed\n",
    "    body.send_keys(Keys.PAGE_DOWN)\n",
    "    expand_more_buttons(driver)\n",
    "    time.sleep(1)"
   ]
  },
  {
   "cell_type": "markdown",
   "source": [
    "### Save reviews into a dataframe"
   ],
   "metadata": {
    "collapsed": false
   }
  },
  {
   "cell_type": "code",
   "execution_count": 36,
   "outputs": [],
   "source": [
    "from bs4 import BeautifulSoup\n",
    "import pandas as pd\n",
    "\n",
    "\n",
    "# reviews = driver.find_elements(By.XPATH, \"//div[@data-review-id]\")\n",
    "\n",
    "# define an empty DataFrame for all of the reviews\n",
    "df = pd.DataFrame(columns=['text_review', 'stars', 'time'])\n",
    "\n",
    "# Assuming `driver.page_source` contains the HTML source of the page with reviews\n",
    "html_content = driver.page_source\n",
    "response = BeautifulSoup(html_content, 'html.parser')\n",
    "reviews = response.find_all('div', class_='jJc9Ad')\n",
    "\n",
    "review_data = []\n",
    "for review in reviews:\n",
    "    review_text = \"No review text found\"\n",
    "    star_rating = \"No rating found\"\n",
    "\n",
    "    review_text_div = review.find('div', class_='MyEned')\n",
    "    if review_text_div:\n",
    "        review_text_span = review_text_div.find('span', class_='wiI7pd')\n",
    "        if review_text_span:\n",
    "            review_text = review_text_span.text\n",
    "\n",
    "    stars_span = review.find('span', class_='fzvQIb')\n",
    "    if stars_span:\n",
    "        stars = stars_span.text[0]\n",
    "        \n",
    "    time_span = review.find('span', class_='xRkPPb')\n",
    "    if time_span:\n",
    "        time = time_span.text\n",
    "\n",
    "    review_data.append({'text': review_text, 'stars': stars, 'time':time})\n",
    "\n",
    "# Create a DataFrame from the review_data list\n",
    "df_reviews = pd.DataFrame(review_data)\n",
    "\n",
    "# remove empty reviews\n",
    "df_reviews = df_reviews[df_reviews['text'] != \"No review text found\"]\n"
   ],
   "metadata": {
    "collapsed": false,
    "ExecuteTime": {
     "end_time": "2024-04-18T09:45:40.347318100Z",
     "start_time": "2024-04-18T09:45:39.961993900Z"
    }
   }
  },
  {
   "cell_type": "code",
   "execution_count": 37,
   "outputs": [
    {
     "name": "stdout",
     "output_type": "stream",
     "text": [
      "Number of reviews collected: 28\n"
     ]
    },
    {
     "data": {
      "text/plain": "                                                 text stars  \\\n0   Excellent stay! Fantastic view from the verand...     5   \n1   Owner was available and accommodating during e...     5   \n2   Just steps from the beach Villa Niki was spaci...     5   \n3   Andreas and his wife are amazing warm and frie...     5   \n4   It couldn't be more welcoming in a guest house...     5   \n5   This is a very clean and friendly \"Rooms to le...     5   \n6   Great, family run hotel full of character, a l...     5   \n7   Like all the other reviews mention, Andreas an...     5   \n8   Excellent! There are two main reasons - I beli...     5   \n9   We spent 1 night here:  we had a super nice ro...     5   \n10  Not a very Nice owner. We Waited 20 minutes in...     1   \n11  My husband and I stayed at Villa Niki during o...     5   \n12  Unprofessional, super opportunistic service, r...     1   \n13  A wonderful stay in villa Niki in October. Spa...     5   \n14  Had the most wonderful stay here, andreas and ...     5   \n15  Just superb! Clean, well kept, close to the be...     5   \n16  Great spot. Location is perfect, villa was cle...     5   \n17  מלון וילה ניקי מספק לינה טובה במקום מופלא ויוצ...     4   \n18  Excellent! There are two main reasons - I beli...     5   \n19  Very nice hotel with amazing owners. Super clo...     5   \n20  Super nice rooms, very clean, great hosts. We ...     5   \n21  Clean , tidy, quiet, great views across the ba...     5   \n22  Big clean room with sensational sea views from...     5   \n23  Very friendly, super rooms, big with pine beam...     5   \n24  Nice flats with 2 bedrooms, a small kitchen an...     5   \n25            all was super. The best stay in Loutro.     5   \n26                                        Great views     4   \n27                  So far so good! To be continued..     5   \n\n                           time  \n0   5 months ago on Tripadvisor  \n1        6 months ago on Google  \n2     a year ago on Tripadvisor  \n3     a year ago on Tripadvisor  \n4    2 years ago on Tripadvisor  \n5    2 years ago on Tripadvisor  \n6    4 years ago on Tripadvisor  \n7         4 years ago on Google  \n8         4 years ago on Google  \n9    4 years ago on Tripadvisor  \n10        2 years ago on Google  \n11   4 years ago on Tripadvisor  \n12        2 years ago on Google  \n13   5 years ago on Tripadvisor  \n14        5 years ago on Google  \n15         a year ago on Google  \n16        6 years ago on Google  \n17   8 years ago on Tripadvisor  \n18   4 years ago on Tripadvisor  \n19         a year ago on Google  \n20        4 years ago on Google  \n21        5 years ago on Google  \n22        3 years ago on Google  \n23        5 years ago on Google  \n24        8 years ago on Google  \n25        6 years ago on Google  \n26         a year ago on Google  \n27        6 years ago on Google  ",
      "text/html": "<div>\n<style scoped>\n    .dataframe tbody tr th:only-of-type {\n        vertical-align: middle;\n    }\n\n    .dataframe tbody tr th {\n        vertical-align: top;\n    }\n\n    .dataframe thead th {\n        text-align: right;\n    }\n</style>\n<table border=\"1\" class=\"dataframe\">\n  <thead>\n    <tr style=\"text-align: right;\">\n      <th></th>\n      <th>text</th>\n      <th>stars</th>\n      <th>time</th>\n    </tr>\n  </thead>\n  <tbody>\n    <tr>\n      <th>0</th>\n      <td>Excellent stay! Fantastic view from the verand...</td>\n      <td>5</td>\n      <td>5 months ago on Tripadvisor</td>\n    </tr>\n    <tr>\n      <th>1</th>\n      <td>Owner was available and accommodating during e...</td>\n      <td>5</td>\n      <td>6 months ago on Google</td>\n    </tr>\n    <tr>\n      <th>2</th>\n      <td>Just steps from the beach Villa Niki was spaci...</td>\n      <td>5</td>\n      <td>a year ago on Tripadvisor</td>\n    </tr>\n    <tr>\n      <th>3</th>\n      <td>Andreas and his wife are amazing warm and frie...</td>\n      <td>5</td>\n      <td>a year ago on Tripadvisor</td>\n    </tr>\n    <tr>\n      <th>4</th>\n      <td>It couldn't be more welcoming in a guest house...</td>\n      <td>5</td>\n      <td>2 years ago on Tripadvisor</td>\n    </tr>\n    <tr>\n      <th>5</th>\n      <td>This is a very clean and friendly \"Rooms to le...</td>\n      <td>5</td>\n      <td>2 years ago on Tripadvisor</td>\n    </tr>\n    <tr>\n      <th>6</th>\n      <td>Great, family run hotel full of character, a l...</td>\n      <td>5</td>\n      <td>4 years ago on Tripadvisor</td>\n    </tr>\n    <tr>\n      <th>7</th>\n      <td>Like all the other reviews mention, Andreas an...</td>\n      <td>5</td>\n      <td>4 years ago on Google</td>\n    </tr>\n    <tr>\n      <th>8</th>\n      <td>Excellent! There are two main reasons - I beli...</td>\n      <td>5</td>\n      <td>4 years ago on Google</td>\n    </tr>\n    <tr>\n      <th>9</th>\n      <td>We spent 1 night here:  we had a super nice ro...</td>\n      <td>5</td>\n      <td>4 years ago on Tripadvisor</td>\n    </tr>\n    <tr>\n      <th>10</th>\n      <td>Not a very Nice owner. We Waited 20 minutes in...</td>\n      <td>1</td>\n      <td>2 years ago on Google</td>\n    </tr>\n    <tr>\n      <th>11</th>\n      <td>My husband and I stayed at Villa Niki during o...</td>\n      <td>5</td>\n      <td>4 years ago on Tripadvisor</td>\n    </tr>\n    <tr>\n      <th>12</th>\n      <td>Unprofessional, super opportunistic service, r...</td>\n      <td>1</td>\n      <td>2 years ago on Google</td>\n    </tr>\n    <tr>\n      <th>13</th>\n      <td>A wonderful stay in villa Niki in October. Spa...</td>\n      <td>5</td>\n      <td>5 years ago on Tripadvisor</td>\n    </tr>\n    <tr>\n      <th>14</th>\n      <td>Had the most wonderful stay here, andreas and ...</td>\n      <td>5</td>\n      <td>5 years ago on Google</td>\n    </tr>\n    <tr>\n      <th>15</th>\n      <td>Just superb! Clean, well kept, close to the be...</td>\n      <td>5</td>\n      <td>a year ago on Google</td>\n    </tr>\n    <tr>\n      <th>16</th>\n      <td>Great spot. Location is perfect, villa was cle...</td>\n      <td>5</td>\n      <td>6 years ago on Google</td>\n    </tr>\n    <tr>\n      <th>17</th>\n      <td>מלון וילה ניקי מספק לינה טובה במקום מופלא ויוצ...</td>\n      <td>4</td>\n      <td>8 years ago on Tripadvisor</td>\n    </tr>\n    <tr>\n      <th>18</th>\n      <td>Excellent! There are two main reasons - I beli...</td>\n      <td>5</td>\n      <td>4 years ago on Tripadvisor</td>\n    </tr>\n    <tr>\n      <th>19</th>\n      <td>Very nice hotel with amazing owners. Super clo...</td>\n      <td>5</td>\n      <td>a year ago on Google</td>\n    </tr>\n    <tr>\n      <th>20</th>\n      <td>Super nice rooms, very clean, great hosts. We ...</td>\n      <td>5</td>\n      <td>4 years ago on Google</td>\n    </tr>\n    <tr>\n      <th>21</th>\n      <td>Clean , tidy, quiet, great views across the ba...</td>\n      <td>5</td>\n      <td>5 years ago on Google</td>\n    </tr>\n    <tr>\n      <th>22</th>\n      <td>Big clean room with sensational sea views from...</td>\n      <td>5</td>\n      <td>3 years ago on Google</td>\n    </tr>\n    <tr>\n      <th>23</th>\n      <td>Very friendly, super rooms, big with pine beam...</td>\n      <td>5</td>\n      <td>5 years ago on Google</td>\n    </tr>\n    <tr>\n      <th>24</th>\n      <td>Nice flats with 2 bedrooms, a small kitchen an...</td>\n      <td>5</td>\n      <td>8 years ago on Google</td>\n    </tr>\n    <tr>\n      <th>25</th>\n      <td>all was super. The best stay in Loutro.</td>\n      <td>5</td>\n      <td>6 years ago on Google</td>\n    </tr>\n    <tr>\n      <th>26</th>\n      <td>Great views</td>\n      <td>4</td>\n      <td>a year ago on Google</td>\n    </tr>\n    <tr>\n      <th>27</th>\n      <td>So far so good! To be continued..</td>\n      <td>5</td>\n      <td>6 years ago on Google</td>\n    </tr>\n  </tbody>\n</table>\n</div>"
     },
     "execution_count": 37,
     "metadata": {},
     "output_type": "execute_result"
    }
   ],
   "source": [
    "print(f\"Number of reviews collected: {len(df_reviews)}\")\n",
    "# Display the DataFrame to verify its content\n",
    "df_reviews"
   ],
   "metadata": {
    "collapsed": false,
    "ExecuteTime": {
     "end_time": "2024-04-18T09:45:41.145331200Z",
     "start_time": "2024-04-18T09:45:41.094385100Z"
    }
   }
  },
  {
   "cell_type": "code",
   "execution_count": 38,
   "outputs": [
    {
     "data": {
      "text/plain": "                                                 text stars  months_ago\n0   Excellent stay! Fantastic view from the verand...     5           5\n1   Owner was available and accommodating during e...     5           6\n2   Just steps from the beach Villa Niki was spaci...     5          12\n3   Andreas and his wife are amazing warm and frie...     5          12\n4   It couldn't be more welcoming in a guest house...     5          24\n5   This is a very clean and friendly \"Rooms to le...     5          24\n6   Great, family run hotel full of character, a l...     5          48\n7   Like all the other reviews mention, Andreas an...     5          48\n8   Excellent! There are two main reasons - I beli...     5          48\n9   We spent 1 night here:  we had a super nice ro...     5          48\n10  Not a very Nice owner. We Waited 20 minutes in...     1          24\n11  My husband and I stayed at Villa Niki during o...     5          48\n12  Unprofessional, super opportunistic service, r...     1          24\n13  A wonderful stay in villa Niki in October. Spa...     5          60\n14  Had the most wonderful stay here, andreas and ...     5          60\n15  Just superb! Clean, well kept, close to the be...     5          12\n16  Great spot. Location is perfect, villa was cle...     5          72\n17  מלון וילה ניקי מספק לינה טובה במקום מופלא ויוצ...     4          96\n18  Excellent! There are two main reasons - I beli...     5          48\n19  Very nice hotel with amazing owners. Super clo...     5          12\n20  Super nice rooms, very clean, great hosts. We ...     5          48\n21  Clean , tidy, quiet, great views across the ba...     5          60\n22  Big clean room with sensational sea views from...     5          36\n23  Very friendly, super rooms, big with pine beam...     5          60\n24  Nice flats with 2 bedrooms, a small kitchen an...     5          96\n25            all was super. The best stay in Loutro.     5          72\n26                                        Great views     4          12\n27                  So far so good! To be continued..     5          72",
      "text/html": "<div>\n<style scoped>\n    .dataframe tbody tr th:only-of-type {\n        vertical-align: middle;\n    }\n\n    .dataframe tbody tr th {\n        vertical-align: top;\n    }\n\n    .dataframe thead th {\n        text-align: right;\n    }\n</style>\n<table border=\"1\" class=\"dataframe\">\n  <thead>\n    <tr style=\"text-align: right;\">\n      <th></th>\n      <th>text</th>\n      <th>stars</th>\n      <th>months_ago</th>\n    </tr>\n  </thead>\n  <tbody>\n    <tr>\n      <th>0</th>\n      <td>Excellent stay! Fantastic view from the verand...</td>\n      <td>5</td>\n      <td>5</td>\n    </tr>\n    <tr>\n      <th>1</th>\n      <td>Owner was available and accommodating during e...</td>\n      <td>5</td>\n      <td>6</td>\n    </tr>\n    <tr>\n      <th>2</th>\n      <td>Just steps from the beach Villa Niki was spaci...</td>\n      <td>5</td>\n      <td>12</td>\n    </tr>\n    <tr>\n      <th>3</th>\n      <td>Andreas and his wife are amazing warm and frie...</td>\n      <td>5</td>\n      <td>12</td>\n    </tr>\n    <tr>\n      <th>4</th>\n      <td>It couldn't be more welcoming in a guest house...</td>\n      <td>5</td>\n      <td>24</td>\n    </tr>\n    <tr>\n      <th>5</th>\n      <td>This is a very clean and friendly \"Rooms to le...</td>\n      <td>5</td>\n      <td>24</td>\n    </tr>\n    <tr>\n      <th>6</th>\n      <td>Great, family run hotel full of character, a l...</td>\n      <td>5</td>\n      <td>48</td>\n    </tr>\n    <tr>\n      <th>7</th>\n      <td>Like all the other reviews mention, Andreas an...</td>\n      <td>5</td>\n      <td>48</td>\n    </tr>\n    <tr>\n      <th>8</th>\n      <td>Excellent! There are two main reasons - I beli...</td>\n      <td>5</td>\n      <td>48</td>\n    </tr>\n    <tr>\n      <th>9</th>\n      <td>We spent 1 night here:  we had a super nice ro...</td>\n      <td>5</td>\n      <td>48</td>\n    </tr>\n    <tr>\n      <th>10</th>\n      <td>Not a very Nice owner. We Waited 20 minutes in...</td>\n      <td>1</td>\n      <td>24</td>\n    </tr>\n    <tr>\n      <th>11</th>\n      <td>My husband and I stayed at Villa Niki during o...</td>\n      <td>5</td>\n      <td>48</td>\n    </tr>\n    <tr>\n      <th>12</th>\n      <td>Unprofessional, super opportunistic service, r...</td>\n      <td>1</td>\n      <td>24</td>\n    </tr>\n    <tr>\n      <th>13</th>\n      <td>A wonderful stay in villa Niki in October. Spa...</td>\n      <td>5</td>\n      <td>60</td>\n    </tr>\n    <tr>\n      <th>14</th>\n      <td>Had the most wonderful stay here, andreas and ...</td>\n      <td>5</td>\n      <td>60</td>\n    </tr>\n    <tr>\n      <th>15</th>\n      <td>Just superb! Clean, well kept, close to the be...</td>\n      <td>5</td>\n      <td>12</td>\n    </tr>\n    <tr>\n      <th>16</th>\n      <td>Great spot. Location is perfect, villa was cle...</td>\n      <td>5</td>\n      <td>72</td>\n    </tr>\n    <tr>\n      <th>17</th>\n      <td>מלון וילה ניקי מספק לינה טובה במקום מופלא ויוצ...</td>\n      <td>4</td>\n      <td>96</td>\n    </tr>\n    <tr>\n      <th>18</th>\n      <td>Excellent! There are two main reasons - I beli...</td>\n      <td>5</td>\n      <td>48</td>\n    </tr>\n    <tr>\n      <th>19</th>\n      <td>Very nice hotel with amazing owners. Super clo...</td>\n      <td>5</td>\n      <td>12</td>\n    </tr>\n    <tr>\n      <th>20</th>\n      <td>Super nice rooms, very clean, great hosts. We ...</td>\n      <td>5</td>\n      <td>48</td>\n    </tr>\n    <tr>\n      <th>21</th>\n      <td>Clean , tidy, quiet, great views across the ba...</td>\n      <td>5</td>\n      <td>60</td>\n    </tr>\n    <tr>\n      <th>22</th>\n      <td>Big clean room with sensational sea views from...</td>\n      <td>5</td>\n      <td>36</td>\n    </tr>\n    <tr>\n      <th>23</th>\n      <td>Very friendly, super rooms, big with pine beam...</td>\n      <td>5</td>\n      <td>60</td>\n    </tr>\n    <tr>\n      <th>24</th>\n      <td>Nice flats with 2 bedrooms, a small kitchen an...</td>\n      <td>5</td>\n      <td>96</td>\n    </tr>\n    <tr>\n      <th>25</th>\n      <td>all was super. The best stay in Loutro.</td>\n      <td>5</td>\n      <td>72</td>\n    </tr>\n    <tr>\n      <th>26</th>\n      <td>Great views</td>\n      <td>4</td>\n      <td>12</td>\n    </tr>\n    <tr>\n      <th>27</th>\n      <td>So far so good! To be continued..</td>\n      <td>5</td>\n      <td>72</td>\n    </tr>\n  </tbody>\n</table>\n</div>"
     },
     "execution_count": 38,
     "metadata": {},
     "output_type": "execute_result"
    }
   ],
   "source": [
    "import numpy as np\n",
    "import re\n",
    "\n",
    "# Function to convert time strings to months\n",
    "def time_to_months(time_str):\n",
    "    # Extract the number and unit (year/month)\n",
    "    match = re.search(r'(\\d+|\\ba\\b)\\s+(year|month)', time_str)\n",
    "    if match:\n",
    "        number_str, unit = match.groups()\n",
    "        number = 1 if number_str == 'a' else int(number_str)\n",
    "        \n",
    "        if 'year' in unit:\n",
    "            return number * 12  # Convert years to months\n",
    "        elif 'month' in unit:\n",
    "            return number\n",
    "    return np.nan  # Return NaN for unmatched strings\n",
    "\n",
    "# Apply the function to the 'time' column\n",
    "df_reviews['months_ago'] = df_reviews['time'].apply(time_to_months)\n",
    "\n",
    "df_reviews.drop('time', axis=1, inplace=True)\n",
    "df_reviews"
   ],
   "metadata": {
    "collapsed": false,
    "ExecuteTime": {
     "end_time": "2024-04-18T09:45:42.228937600Z",
     "start_time": "2024-04-18T09:45:42.173260900Z"
    }
   }
  },
  {
   "cell_type": "code",
   "execution_count": 39,
   "outputs": [],
   "source": [
    "df_reviews.to_csv('reviews_Villa Niki.csv', index=False)"
   ],
   "metadata": {
    "collapsed": false,
    "ExecuteTime": {
     "end_time": "2024-04-18T09:45:51.429913700Z",
     "start_time": "2024-04-18T09:45:51.316483400Z"
    }
   }
  },
  {
   "cell_type": "code",
   "execution_count": null,
   "outputs": [],
   "source": [],
   "metadata": {
    "collapsed": false
   }
  }
 ],
 "metadata": {
  "kernelspec": {
   "display_name": "dana",
   "language": "python",
   "name": "python3"
  },
  "language_info": {
   "codemirror_mode": {
    "name": "ipython",
    "version": 3
   },
   "file_extension": ".py",
   "mimetype": "text/x-python",
   "name": "python",
   "nbconvert_exporter": "python",
   "pygments_lexer": "ipython3",
   "version": "3.11.5"
  }
 },
 "nbformat": 4,
 "nbformat_minor": 2
}
