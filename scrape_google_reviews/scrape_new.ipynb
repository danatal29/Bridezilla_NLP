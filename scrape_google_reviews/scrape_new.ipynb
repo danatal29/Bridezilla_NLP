{
 "cells": [
  {
   "cell_type": "code",
   "execution_count": 1,
   "metadata": {},
   "outputs": [],
   "source": [
    "import pandas as pd\n",
    "\n",
    "\n",
    "from selenium import webdriver\n",
    "from selenium.webdriver.common.by import By\n",
    "from selenium.webdriver.support.ui import WebDriverWait\n",
    "from selenium.webdriver.support import expected_conditions as EC\n",
    "from selenium.webdriver.common.keys import Keys\n",
    "import time"
   ]
  },
  {
   "cell_type": "code",
   "execution_count": 2,
   "metadata": {},
   "outputs": [],
   "source": [
    "\n",
    "from bs4 import BeautifulSoup\n",
    "\n",
    "def init_driver(url):\n",
    "    driver = webdriver.Chrome()\n",
    "    driver.get(url)\n",
    "    return driver\n",
    "\n",
    "def translate_page_to_english(driver):\n",
    "    wait = WebDriverWait(driver, 2)\n",
    "    menu_xpath = '//*[@id=\"QA0Szd\"]/div/div/div[1]/div[1]/ul/li[1]/button/div'\n",
    "    menu_xpath = wait.until(EC.element_to_be_clickable((By.XPATH, menu_xpath)))\n",
    "    menu_xpath.click()\n",
    "    wait = WebDriverWait(driver, 1)\n",
    "    lan = '//*[@id=\"settings\"]/div/div[2]/ul/div[7]/li[1]/button'\n",
    "    language_button = wait.until(EC.element_to_be_clickable((By.XPATH, lan)))\n",
    "    language_button.click()\n",
    "    wait = WebDriverWait(driver, 1)\n",
    "\n",
    "    # click on the english language\n",
    "    english_xpath = '//*[@id=\"modal-dialog\"]/div/div[2]/div/div[2]/div/div/div/div[3]/div[1]/div[11]/a'\n",
    "    anchor_element = WebDriverWait(driver, 10).until(\n",
    "        EC.element_to_be_clickable((By.XPATH, english_xpath))\n",
    "    )\n",
    "    anchor_element.click()\n",
    "\n",
    "\n",
    "def scroll_down_google_reviews(driver, total_number_of_reviews=50):\n",
    "    def expand_more_buttons(driver):\n",
    "        more_buttons = driver.find_elements(By.XPATH, \"//button[@aria-label='See more']\")\n",
    "        for button in more_buttons:\n",
    "            try:\n",
    "                driver.execute_script(\"arguments[0].scrollIntoView();\", button)\n",
    "                WebDriverWait(driver, 5).until(EC.element_to_be_clickable(button)).click()\n",
    "            except Exception as e:\n",
    "                print(\"Could not click on a 'More' button:\", e)\n",
    "                continue\n",
    "    time.sleep(10)\n",
    "    body = driver.find_element(By.XPATH, \"//div[contains(@class, 'm6QErb') and contains(@class, 'DxyBCb') and contains(@class, 'kA9KIf') and contains(@class, 'dS8AEf')]\")\n",
    "    for _ in range(total_number_of_reviews):\n",
    "        body.send_keys(Keys.PAGE_DOWN)\n",
    "        expand_more_buttons(driver)\n",
    "        time.sleep(1)\n",
    "\n",
    "\n",
    "def retrieve_google_reviews(driver):\n",
    "    reviews = []\n",
    "    html_content = driver.page_source\n",
    "    response = BeautifulSoup(html_content, 'html.parser')\n",
    "    review_elements = response.find_all('div', class_='jJc9Ad')\n",
    "    for review_element in review_elements:\n",
    "        review_text = \"No review text found\"\n",
    "        try:\n",
    "            review_text_div = review_element.find('div', class_='MyEned')\n",
    "            if review_text_div:\n",
    "                review_text_span = review_text_div.find('span', class_='wiI7pd')\n",
    "                if review_text_span:\n",
    "                    review_text = review_text_span.text\n",
    "        except:\n",
    "            print(\"Couldn't locate\")\n",
    "        reviews.append(review_text)\n",
    "\n",
    "    driver.quit()\n",
    "    return reviews"
   ]
  },
  {
   "cell_type": "code",
   "execution_count": 3,
   "metadata": {},
   "outputs": [
    {
     "ename": "TimeoutException",
     "evalue": "Message: \nStacktrace:\n\tGetHandleVerifier [0x00007FF6C3611522+60802]\n\t(No symbol) [0x00007FF6C358AC22]\n\t(No symbol) [0x00007FF6C3447CE4]\n\t(No symbol) [0x00007FF6C3496D4D]\n\t(No symbol) [0x00007FF6C3496E1C]\n\t(No symbol) [0x00007FF6C34DCE37]\n\t(No symbol) [0x00007FF6C34BABBF]\n\t(No symbol) [0x00007FF6C34DA224]\n\t(No symbol) [0x00007FF6C34BA923]\n\t(No symbol) [0x00007FF6C3488FEC]\n\t(No symbol) [0x00007FF6C3489C21]\n\tGetHandleVerifier [0x00007FF6C39141BD+3217949]\n\tGetHandleVerifier [0x00007FF6C3956157+3488183]\n\tGetHandleVerifier [0x00007FF6C394F0DF+3459391]\n\tGetHandleVerifier [0x00007FF6C36CB8E6+823622]\n\t(No symbol) [0x00007FF6C3595FBF]\n\t(No symbol) [0x00007FF6C3590EE4]\n\t(No symbol) [0x00007FF6C3591072]\n\t(No symbol) [0x00007FF6C35818C4]\n\tBaseThreadInitThunk [0x00007FFA071B257D+29]\n\tRtlUserThreadStart [0x00007FFA07D4AA48+40]\n",
     "output_type": "error",
     "traceback": [
      "\u001b[1;31m---------------------------------------------------------------------------\u001b[0m",
      "\u001b[1;31mTimeoutException\u001b[0m                          Traceback (most recent call last)",
      "\u001b[1;32mc:\\Users\\DanaTal\\projects\\nlp\\Bridezilla_NLP\\scrape_google_reviews\\scrape_new.ipynb Cell 3\u001b[0m line \u001b[0;36m3\n\u001b[0;32m      <a href='vscode-notebook-cell:/c%3A/Users/DanaTal/projects/nlp/Bridezilla_NLP/scrape_google_reviews/scrape_new.ipynb#W2sZmlsZQ%3D%3D?line=0'>1</a>\u001b[0m url \u001b[39m=\u001b[39m \u001b[39m'\u001b[39m\u001b[39mhttps://www.google.com/maps/place/Old-Phoenix+Rooms+\u001b[39m\u001b[39m%\u001b[39m\u001b[39m26+Restaurant/@35.1999187,24.0721182,15z/data=!4m11!3m10!1s0x136061919fe41577:0x609b596cdbd2b8be!5m2!4m1!1i2!8m2!3d35.1999187!4d24.0721182!9m1!1b1!16s\u001b[39m\u001b[39m%2F\u001b[39;00m\u001b[39mg\u001b[39m\u001b[39m%2F\u001b[39;00m\u001b[39m1tml7nv7?entry=ttu\u001b[39m\u001b[39m'\u001b[39m\n\u001b[0;32m      <a href='vscode-notebook-cell:/c%3A/Users/DanaTal/projects/nlp/Bridezilla_NLP/scrape_google_reviews/scrape_new.ipynb#W2sZmlsZQ%3D%3D?line=1'>2</a>\u001b[0m driver \u001b[39m=\u001b[39m init_driver(url)\n\u001b[1;32m----> <a href='vscode-notebook-cell:/c%3A/Users/DanaTal/projects/nlp/Bridezilla_NLP/scrape_google_reviews/scrape_new.ipynb#W2sZmlsZQ%3D%3D?line=2'>3</a>\u001b[0m translate_page_to_english(driver)\n\u001b[0;32m      <a href='vscode-notebook-cell:/c%3A/Users/DanaTal/projects/nlp/Bridezilla_NLP/scrape_google_reviews/scrape_new.ipynb#W2sZmlsZQ%3D%3D?line=3'>4</a>\u001b[0m scroll_down_google_reviews(driver, total_number_of_reviews\u001b[39m=\u001b[39m\u001b[39m50\u001b[39m)\n\u001b[0;32m      <a href='vscode-notebook-cell:/c%3A/Users/DanaTal/projects/nlp/Bridezilla_NLP/scrape_google_reviews/scrape_new.ipynb#W2sZmlsZQ%3D%3D?line=4'>5</a>\u001b[0m reviews \u001b[39m=\u001b[39m retrieve_google_reviews(driver)\n",
      "\u001b[1;32mc:\\Users\\DanaTal\\projects\\nlp\\Bridezilla_NLP\\scrape_google_reviews\\scrape_new.ipynb Cell 3\u001b[0m line \u001b[0;36m1\n\u001b[0;32m     <a href='vscode-notebook-cell:/c%3A/Users/DanaTal/projects/nlp/Bridezilla_NLP/scrape_google_reviews/scrape_new.ipynb#W2sZmlsZQ%3D%3D?line=12'>13</a>\u001b[0m wait \u001b[39m=\u001b[39m WebDriverWait(driver, \u001b[39m1\u001b[39m)\n\u001b[0;32m     <a href='vscode-notebook-cell:/c%3A/Users/DanaTal/projects/nlp/Bridezilla_NLP/scrape_google_reviews/scrape_new.ipynb#W2sZmlsZQ%3D%3D?line=13'>14</a>\u001b[0m lan \u001b[39m=\u001b[39m \u001b[39m'\u001b[39m\u001b[39m//*[@id=\u001b[39m\u001b[39m\"\u001b[39m\u001b[39msettings\u001b[39m\u001b[39m\"\u001b[39m\u001b[39m]/div/div[2]/ul/div[7]/li[1]/button\u001b[39m\u001b[39m'\u001b[39m\n\u001b[1;32m---> <a href='vscode-notebook-cell:/c%3A/Users/DanaTal/projects/nlp/Bridezilla_NLP/scrape_google_reviews/scrape_new.ipynb#W2sZmlsZQ%3D%3D?line=14'>15</a>\u001b[0m language_button \u001b[39m=\u001b[39m wait\u001b[39m.\u001b[39;49muntil(EC\u001b[39m.\u001b[39;49melement_to_be_clickable((By\u001b[39m.\u001b[39;49mXPATH, lan)))\n\u001b[0;32m     <a href='vscode-notebook-cell:/c%3A/Users/DanaTal/projects/nlp/Bridezilla_NLP/scrape_google_reviews/scrape_new.ipynb#W2sZmlsZQ%3D%3D?line=15'>16</a>\u001b[0m language_button\u001b[39m.\u001b[39mclick()\n\u001b[0;32m     <a href='vscode-notebook-cell:/c%3A/Users/DanaTal/projects/nlp/Bridezilla_NLP/scrape_google_reviews/scrape_new.ipynb#W2sZmlsZQ%3D%3D?line=16'>17</a>\u001b[0m wait \u001b[39m=\u001b[39m WebDriverWait(driver, \u001b[39m1\u001b[39m)\n",
      "File \u001b[1;32mc:\\Users\\DanaTal\\anaconda3\\envs\\dana\\Lib\\site-packages\\selenium\\webdriver\\support\\wait.py:105\u001b[0m, in \u001b[0;36mWebDriverWait.until\u001b[1;34m(self, method, message)\u001b[0m\n\u001b[0;32m    103\u001b[0m     \u001b[39mif\u001b[39;00m time\u001b[39m.\u001b[39mmonotonic() \u001b[39m>\u001b[39m end_time:\n\u001b[0;32m    104\u001b[0m         \u001b[39mbreak\u001b[39;00m\n\u001b[1;32m--> 105\u001b[0m \u001b[39mraise\u001b[39;00m TimeoutException(message, screen, stacktrace)\n",
      "\u001b[1;31mTimeoutException\u001b[0m: Message: \nStacktrace:\n\tGetHandleVerifier [0x00007FF6C3611522+60802]\n\t(No symbol) [0x00007FF6C358AC22]\n\t(No symbol) [0x00007FF6C3447CE4]\n\t(No symbol) [0x00007FF6C3496D4D]\n\t(No symbol) [0x00007FF6C3496E1C]\n\t(No symbol) [0x00007FF6C34DCE37]\n\t(No symbol) [0x00007FF6C34BABBF]\n\t(No symbol) [0x00007FF6C34DA224]\n\t(No symbol) [0x00007FF6C34BA923]\n\t(No symbol) [0x00007FF6C3488FEC]\n\t(No symbol) [0x00007FF6C3489C21]\n\tGetHandleVerifier [0x00007FF6C39141BD+3217949]\n\tGetHandleVerifier [0x00007FF6C3956157+3488183]\n\tGetHandleVerifier [0x00007FF6C394F0DF+3459391]\n\tGetHandleVerifier [0x00007FF6C36CB8E6+823622]\n\t(No symbol) [0x00007FF6C3595FBF]\n\t(No symbol) [0x00007FF6C3590EE4]\n\t(No symbol) [0x00007FF6C3591072]\n\t(No symbol) [0x00007FF6C35818C4]\n\tBaseThreadInitThunk [0x00007FFA071B257D+29]\n\tRtlUserThreadStart [0x00007FFA07D4AA48+40]\n"
     ]
    }
   ],
   "source": [
    "url = 'https://www.google.com/maps/place/Old-Phoenix+Rooms+%26+Restaurant/@35.1999187,24.0721182,15z/data=!4m11!3m10!1s0x136061919fe41577:0x609b596cdbd2b8be!5m2!4m1!1i2!8m2!3d35.1999187!4d24.0721182!9m1!1b1!16s%2Fg%2F1tml7nv7?entry=ttu'\n",
    "driver = init_driver(url)\n",
    "translate_page_to_english(driver)\n",
    "scroll_down_google_reviews(driver, total_number_of_reviews=50)\n",
    "reviews = retrieve_google_reviews(driver)"
   ]
  },
  {
   "cell_type": "code",
   "execution_count": null,
   "metadata": {},
   "outputs": [],
   "source": []
  },
  {
   "cell_type": "code",
   "execution_count": null,
   "metadata": {},
   "outputs": [],
   "source": []
  },
  {
   "cell_type": "code",
   "execution_count": null,
   "metadata": {},
   "outputs": [],
   "source": []
  }
 ],
 "metadata": {
  "kernelspec": {
   "display_name": "dana",
   "language": "python",
   "name": "python3"
  },
  "language_info": {
   "codemirror_mode": {
    "name": "ipython",
    "version": 3
   },
   "file_extension": ".py",
   "mimetype": "text/x-python",
   "name": "python",
   "nbconvert_exporter": "python",
   "pygments_lexer": "ipython3",
   "version": "3.11.5"
  }
 },
 "nbformat": 4,
 "nbformat_minor": 2
}
