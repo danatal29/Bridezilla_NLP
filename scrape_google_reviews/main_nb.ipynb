{
 "cells": [
  {
   "cell_type": "markdown",
   "metadata": {},
   "source": [
    "### Main notebook"
   ]
  },
  {
   "cell_type": "code",
   "execution_count": 1,
   "metadata": {},
   "outputs": [],
   "source": [
    "from scraper import DataLoader"
   ]
  },
  {
   "cell_type": "markdown",
   "metadata": {},
   "source": [
    "### Scrape google map's reviews into dataframe"
   ]
  },
  {
   "cell_type": "code",
   "execution_count": 2,
   "metadata": {},
   "outputs": [],
   "source": [
    "# insert goole maps business url\n",
    "url = 'https://maps.app.goo.gl/geQwCeu2riPkrSqt8'\n"
   ]
  },
  {
   "cell_type": "code",
   "execution_count": 3,
   "metadata": {},
   "outputs": [],
   "source": [
    "# Loader init\n",
    "loader = DataLoader(url)"
   ]
  },
  {
   "cell_type": "code",
   "execution_count": 4,
   "metadata": {},
   "outputs": [],
   "source": [
    "# navigate to the reviews page\n",
    "loader.navigate()"
   ]
  },
  {
   "cell_type": "code",
   "execution_count": 10,
   "metadata": {},
   "outputs": [
    {
     "data": {
      "text/plain": [
       "4.3"
      ]
     },
     "execution_count": 10,
     "metadata": {},
     "output_type": "execute_result"
    }
   ],
   "source": [
    "loader.create_reviews_df()\n",
    "loader.df.stars.mean()"
   ]
  },
  {
   "cell_type": "code",
   "execution_count": 2,
   "metadata": {},
   "outputs": [],
   "source": [
    "from selenium import webdriver\n",
    "from selenium.webdriver.common.by import By\n",
    "from selenium.webdriver.support.ui import WebDriverWait\n",
    "from selenium.webdriver.support import expected_conditions as EC\n",
    "\n",
    "driver = webdriver.Chrome()  # Or whichever browser/driver you're using\n",
    "# define url\n",
    "url = 'https://maps.app.goo.gl/geQwCeu2riPkrSqt8'\n",
    "driver.get(url)"
   ]
  },
  {
   "cell_type": "code",
   "execution_count": 3,
   "metadata": {},
   "outputs": [],
   "source": [
    "from bs4 import BeautifulSoup\n",
    "\n",
    "# Finding the address of the location\n",
    "response = BeautifulSoup(driver.page_source, 'html.parser')\n",
    "address = response.find('div',class_= 'rogA2c').text"
   ]
  },
  {
   "cell_type": "code",
   "execution_count": 4,
   "metadata": {},
   "outputs": [],
   "source": [
    "xpath = \"//button[contains(., 'ביקורות') or contains(., 'REVIEWS')]\"\n",
    "wait = WebDriverWait(driver, 10)\n",
    "route_button = wait.until(EC.element_to_be_clickable((By.XPATH, xpath)))\n",
    "route_button.click()"
   ]
  },
  {
   "cell_type": "code",
   "execution_count": 1,
   "metadata": {},
   "outputs": [],
   "source": [
    "import os\n",
    "import pandas as pd\n",
    "\n",
    "from glob import glob\n"
   ]
  },
  {
   "cell_type": "code",
   "execution_count": 2,
   "metadata": {},
   "outputs": [
    {
     "data": {
      "text/plain": [
       "'c:\\\\Users\\\\DanaTal\\\\projects\\\\nlp\\\\Bridezilla_NLP\\\\data\\\\reviews_Old-Phoenix Rooms & Restaurant.csv'"
      ]
     },
     "execution_count": 2,
     "metadata": {},
     "output_type": "execute_result"
    }
   ],
   "source": [
    "home_dir = 'c:\\\\Users\\\\DanaTal\\\\projects\\\\nlp\\\\Bridezilla_NLP'\n",
    "os.path.exists(home_dir)\n",
    "data_dir = os.path.join(home_dir, f'data')\n",
    "data_path = glob(data_dir + '\\\\*.csv')[0]\n",
    "data_path\n"
   ]
  },
  {
   "cell_type": "markdown",
   "metadata": {},
   "source": [
    "Load Reviews"
   ]
  },
  {
   "cell_type": "code",
   "execution_count": 19,
   "metadata": {},
   "outputs": [
    {
     "name": "stdout",
     "output_type": "stream",
     "text": [
      " number of reviews is: 189\n"
     ]
    },
    {
     "data": {
      "text/html": [
       "<div>\n",
       "<style scoped>\n",
       "    .dataframe tbody tr th:only-of-type {\n",
       "        vertical-align: middle;\n",
       "    }\n",
       "\n",
       "    .dataframe tbody tr th {\n",
       "        vertical-align: top;\n",
       "    }\n",
       "\n",
       "    .dataframe thead th {\n",
       "        text-align: right;\n",
       "    }\n",
       "</style>\n",
       "<table border=\"1\" class=\"dataframe\">\n",
       "  <thead>\n",
       "    <tr style=\"text-align: right;\">\n",
       "      <th></th>\n",
       "      <th>text</th>\n",
       "      <th>stars</th>\n",
       "      <th>months_ago</th>\n",
       "    </tr>\n",
       "  </thead>\n",
       "  <tbody>\n",
       "    <tr>\n",
       "      <th>0</th>\n",
       "      <td>We love The Old Phoenix - this is the fourth t...</td>\n",
       "      <td>5</td>\n",
       "      <td>5</td>\n",
       "    </tr>\n",
       "    <tr>\n",
       "      <th>1</th>\n",
       "      <td>What a disappointment. We have wanted to stay ...</td>\n",
       "      <td>1</td>\n",
       "      <td>4</td>\n",
       "    </tr>\n",
       "    <tr>\n",
       "      <th>2</th>\n",
       "      <td>We walked over to Fenix from Loutro and stayed...</td>\n",
       "      <td>5</td>\n",
       "      <td>6</td>\n",
       "    </tr>\n",
       "    <tr>\n",
       "      <th>3</th>\n",
       "      <td>The Old Phoenix was the low point of our two w...</td>\n",
       "      <td>1</td>\n",
       "      <td>5</td>\n",
       "    </tr>\n",
       "    <tr>\n",
       "      <th>4</th>\n",
       "      <td>I had a fantastic time at Old-Phoenix!\\nThe be...</td>\n",
       "      <td>5</td>\n",
       "      <td>7</td>\n",
       "    </tr>\n",
       "  </tbody>\n",
       "</table>\n",
       "</div>"
      ],
      "text/plain": [
       "                                                text  stars  months_ago\n",
       "0  We love The Old Phoenix - this is the fourth t...      5           5\n",
       "1  What a disappointment. We have wanted to stay ...      1           4\n",
       "2  We walked over to Fenix from Loutro and stayed...      5           6\n",
       "3  The Old Phoenix was the low point of our two w...      1           5\n",
       "4  I had a fantastic time at Old-Phoenix!\\nThe be...      5           7"
      ]
     },
     "execution_count": 19,
     "metadata": {},
     "output_type": "execute_result"
    }
   ],
   "source": [
    "df = pd.read_csv(data_path)\n",
    "print(f' number of reviews is: {len(df)}')\n",
    "df.head()"
   ]
  },
  {
   "cell_type": "code",
   "execution_count": 21,
   "metadata": {},
   "outputs": [],
   "source": [
    "import torch\n",
    "from transformers import AutoTokenizer, AutoModelWithLMHead"
   ]
  },
  {
   "cell_type": "code",
   "execution_count": 24,
   "metadata": {},
   "outputs": [
    {
     "name": "stderr",
     "output_type": "stream",
     "text": [
      "c:\\Users\\DanaTal\\anaconda3\\envs\\dana\\Lib\\site-packages\\transformers\\models\\t5\\tokenization_t5_fast.py:160: FutureWarning: This tokenizer was incorrectly instantiated with a model max length of 512 which will be corrected in Transformers v5.\n",
      "For now, this behavior is kept to avoid breaking backwards compatibility when padding/encoding with `truncation is True`.\n",
      "- Be aware that you SHOULD NOT rely on t5-base automatically truncating your input to 512 when padding/encoding.\n",
      "- If you want to encode/pad to sequences longer than 512 you can either instantiate this tokenizer with `model_max_length` or pass `max_length` when encoding/padding.\n",
      "- To avoid this warning, please instantiate this tokenizer with `model_max_length` set to your preferred value.\n",
      "  warnings.warn(\n",
      "c:\\Users\\DanaTal\\anaconda3\\envs\\dana\\Lib\\site-packages\\transformers\\models\\auto\\modeling_auto.py:1509: FutureWarning: The class `AutoModelWithLMHead` is deprecated and will be removed in a future version. Please use `AutoModelForCausalLM` for causal language models, `AutoModelForMaskedLM` for masked language models and `AutoModelForSeq2SeqLM` for encoder-decoder models.\n",
      "  warnings.warn(\n"
     ]
    },
    {
     "data": {
      "application/vnd.jupyter.widget-view+json": {
       "model_id": "6bf282004c3a448c87fdb5bba95cc256",
       "version_major": 2,
       "version_minor": 0
      },
      "text/plain": [
       "model.safetensors:   0%|          | 0.00/892M [00:00<?, ?B/s]"
      ]
     },
     "metadata": {},
     "output_type": "display_data"
    },
    {
     "data": {
      "application/vnd.jupyter.widget-view+json": {
       "model_id": "ee78956b0e7a47efa64fd940a277e6c8",
       "version_major": 2,
       "version_minor": 0
      },
      "text/plain": [
       "generation_config.json:   0%|          | 0.00/147 [00:00<?, ?B/s]"
      ]
     },
     "metadata": {},
     "output_type": "display_data"
    }
   ],
   "source": [
    "# Load Tokenizer & model\n",
    "model_name = 't5-small'\n",
    "tokenizer = AutoTokenizer.from_pretrained(model_name)\n",
    "model =  AutoModelWithLMHead.from_pretrained('t5-base', return_dict=True)"
   ]
  },
  {
   "cell_type": "markdown",
   "metadata": {},
   "source": [
    "### Infer one review"
   ]
  },
  {
   "cell_type": "code",
   "execution_count": 36,
   "metadata": {},
   "outputs": [
    {
     "data": {
      "text/plain": [
       "'We love The Old Phoenix - this is the fourth time we’ve visited in the last ten years or so. It’s secluded and quiet, and the swimming in the bay is sublime. If you’re expecting five-star luxury, go somewhere else; this is a traditional …'"
      ]
     },
     "execution_count": 36,
     "metadata": {},
     "output_type": "execute_result"
    }
   ],
   "source": [
    "# t5 can handle once 512 tokens\n",
    "sequence = (df.text[0])\n",
    "sequence"
   ]
  },
  {
   "cell_type": "code",
   "execution_count": 29,
   "metadata": {},
   "outputs": [],
   "source": [
    "# tokenize one review\n",
    "inputs = tokenizer.encode(\"summarize: \" + sequence, return_tensors='pt', max_length=512, truncation=True)"
   ]
  },
  {
   "cell_type": "code",
   "execution_count": 31,
   "metadata": {},
   "outputs": [
    {
     "data": {
      "text/plain": [
       "tensor([[21603,    10,   101,   333,    37,  3525, 12308,     3,    18,    48,\n",
       "            19,     8,  4509,    97,    62,    22,   162,  5251,    16,     8,\n",
       "           336,     3,   324,   203,    42,    78,     5,    94,    22,     7,\n",
       "             3,     7, 28426,    11,  4354,     6,    11,     8,  5989,    16,\n",
       "             8, 10210,    19, 25781,     5,   156,    25,    22,    60, 11873,\n",
       "           874,    18,  3624,  3873,     6,   281,  5775,  1307,   117,    48,\n",
       "            19,     3,     9,  1435,     3,   233,     1]])"
      ]
     },
     "execution_count": 31,
     "metadata": {},
     "output_type": "execute_result"
    }
   ],
   "source": [
    "inputs"
   ]
  },
  {
   "cell_type": "code",
   "execution_count": 43,
   "metadata": {},
   "outputs": [
    {
     "data": {
      "text/plain": [
       "tensor([[    0,     8,  1595,    19,     8,  4509,    62,    31,   162,  5251,\n",
       "            16,     8,   336,     3,   324,   203,    42,    78,     3,     5,\n",
       "            34,    31,     7,     3,     7, 28426,    11,  4354,     6,    11,\n",
       "             8,  5989,    16,     8, 10210,    19, 25781,     3,     5,     3]])"
      ]
     },
     "execution_count": 43,
     "metadata": {},
     "output_type": "execute_result"
    }
   ],
   "source": [
    "# this will generate a numerical output\n",
    "output = model.generate(inputs, max_length=40, min_length=1, length_penalty=5, num_beams=2)\n",
    "output"
   ]
  },
  {
   "cell_type": "code",
   "execution_count": 44,
   "metadata": {},
   "outputs": [
    {
     "name": "stdout",
     "output_type": "stream",
     "text": [
      "<pad> the hotel is the fourth we've visited in the last ten years or so. it's secluded and quiet, and the swimming in the bay is sublime. \n"
     ]
    }
   ],
   "source": [
    "print(tokenizer.decode(output[0]))"
   ]
  },
  {
   "cell_type": "markdown",
   "metadata": {},
   "source": [
    "### Take all the reviews"
   ]
  },
  {
   "cell_type": "code",
   "execution_count": 53,
   "metadata": {},
   "outputs": [
    {
     "name": "stdout",
     "output_type": "stream",
     "text": [
      "('We love The Old Phoenix - this is the fourth time we’ve visited in the last ten years or so. It’s secluded and quiet, and the swimming in the bay is sublime. If you’re expecting five-star luxury, go somewhere else; this is a traditional …', 'What a disappointment. We have wanted to stay here for years but it was not a nice experience. Fine for a day at the beach and lunch at the taverna but don’t expect friendly service, the waiters couldn’t care less. And do not stay here! …', 'We walked over to Fenix from Loutro and stayed the day on the beach by the Old Phoenix. Wonderful small stony beach, clean clear water and very quiet. Had lunch in the restaurant that was very good, fresh local ingredients and lovely …', 'The Old Phoenix was the low point of our two week vacation. Our room looked nothing like the photos. No art on the walls, fluorescent blue lights (and fluorescent reading lights, well, only one worked, that were brighter than the …', 'I had a fantastic time at Old-Phoenix!\\nThe beautiful beach on site provided the perfect backdrop for a relaxing vacation. …', \"On the way from Marmara to Loutro I stopped for breakfast. I had a coffee and a yogurt, finally after 30 minutes the yogurt didn't arrive, so I went to the boss to pay for my coffee and everything was fine.  Then the waiter came and …\", 'If you are looking for a get away from it all travelling experience then look no further. The location and view is absolutely stunning. We originally came here because it’s a great base for walking but increasingly we like chilling out and …', 'Amazing place with nice people running it! Very good (and affordable) connections by boat to the surrounding beaches ☺️ …', 'When the small boat takes you into Finix Bay it’s taking you back to how Greece used to be before mass tourism. A wonderfully relaxing traditional place with lots of outdoor activity in the surrounding mountains', 'I recommend this place for those who love to swim in the warm Mediterrian sea in October and for those who love the smell of Crete in the autumn. This is definitely the best place ever for staying for hours on a small and beautiful beach …', \"Didn't stay at the hotel but did eat at the restaurant. Service was bad, food just ok. Do yourself a favor and take a 20 minute walk west and eat at Nikos Small Paradise instead. They actually appreciate your business.\", 'Actually, you can read it all at the homepage of The Old Phoenix, it is a very good and precise description. |It is a really nice, very laid back place, beautifully situated in the bottom of the small bay of Finix. The rooms are small and …', \"So now I'm back again at Old Phonix. If you want details you can read my review from 2017, because it hasn't changed much. And that is what's so lovely about it. A beautiful building in a beautiful place. Very well kept, painted in …\", 'A most beautiful and relaxing place, very friendly atmosphere and the best views of the landscape you can get! This family run hotel is very unique, with great food, very nice people - the most authentic greek impression possible. We visit …', 'I was a spectacular road but also a «hard drive» down the mountain -the last km was on a dirt road. But the view both getting to  the Taverna and sitting at the Taverna was very nice. The Mossaka and the Greek salad tasted very good.', 'Food was regular and good, typical greek and fresh. The location sea view was very quiet, fresh, not crowded at all. A pity that the service was not at the same level. It seemed that the waiter , probably even the owner, was not really willing to care about customers.', \"It's our small paradise on earth. We  came again with our teenagers for a perfect week vacation. Not first and for sure we will come again. Rooms are very simple with a perfect sea view and a balcony. The beach is quiet, clear water. The …\", \"My wife and I recently stayed at the Old Phoenix and had the most wonderful stay. If you're looking for simple relaxation - sunbathing, reading, walking and swimming this is a great place. The weather was beautiful as was the scenery. The …\", 'This is the best vacation i have had, the hotel is on an amazing beach and the restaurant has the best food! We had the fresh fish the owners caught on a daily basis and ate other home made food that was cooked! The place is so relaxing and …', \"I really don't understand how so many people liked the food and the service. In our case we had a waiter constantly coming to our chair to demand 5 euro for the beach seat. …\", 'I stayed here with some friends for 6 weeks in 1981. It is a fantastic place to stay for as long as you want. I have been back quite a few times since, the family that run it are very friendly, more like family to me. It is nice to meet the …', \"You'll pass this place on your hike along this stunning coast. The taverna looks inviting and as modern as Tesla, well at least in these parts. I sat at 1205pm and was told the kitchen doesn't open for 25 minutes...have some stuffed …\", \"Beautiful location but if you want a wonderful quiet romantic time don't come when there's a Yoga group here for a week and using amplified vocals on the harbour during the day...Food and Drink fine but noise levels not what the publicity suggests!\", 'The strong point of this hotel is its unique location and wonderful views.    The owners are friendly but my bathroom smelled of drains and there was poor grouting with dark brown stains.     The bedrooms were only serviced once every three …', 'Nice and calm place, less traffic than in Loutro. We had a very nice lunch with a Cretan salad and Mousaka. Will surely com back.', 'We love The Old Phoenix - this is the fourth time we’ve visited in the last ten years or so. It’s secluded and quiet, and the swimming in the bay is sublime. If you’re expecting five-star luxury, go somewhere else; this is a traditional …', 'Second time here and will be back again. Sparkling clean, excellent Taverna, perfect private beach and friendly stuff. Most beautiful bay in Crete. We love it. Family owned and you can feel it! Thank you and see you next year.', 'Beautufil place, very nice people and a great kitchen. A place hidden from everything', \"Thought I'd died and gone to heaven! Loved it. Very simple. But that's the attraction. No shops nearby, just sea, mountains, goats and a big sky.......en suite very basic, but adequate. Food fresh and utterly delicious.\", 'Secret hotel with its secret beach. Food is delicious (fish from the day mostly). Do not hesitate. You can acces it by boat letting your car on the other side, or by car but the mountain road is a bit difficult, still doable. …', 'We stayed here for a day. Cosy place, with really nice view. The food is pretty good. The road to this place is an great adventure.( Little dangerous) 4*4 WD is adviced. …', \"When we set off from Loutro we didn't know that the village of Phoenix and Finikas bay were around the headland. After a good walk on a hot day we stopped for a drink and a chat with the waiter who gave us an alternative route back to …\", '...nice place...nice cooking...nice cleaning...nice people...fast service...Amazing...!', 'I want to say thank you very much for all the people right good thinks for this place!!', 'Beautiful family run hotel, was highly recommended by a friend so we booked here for a few nights and absolutely loved it. Lovely staff and great food in the restaurant too ☺️', 'cosy off-site hotel. 15 min walk to next village, best reached by boat or by foot when walking the south coast of Crete.\\nfresh, delicious food with a lot of local ingredients. really friendly an relaxed staff.', 'We shared 3 dishes and thought they were all delicious. Perfect beachy lunch', 'Silent places with a amazing view and the road until here is breathtaking. Only a few parking lots available Only for guests.', 'We stayed there for 5 days, excellent friendly service all day long, from breakfast  to dinner, super view over the beach and nice rooms … we will come again 😀 …', 'One of the most beautiful place in Crete! Beautiful place with an amazing beach!! I am amazed by the food! Fresh an tastefull! 100% The 1st place you should visit in Crete!', 'Amazing place.Quite and confortable rooms with a beautifull veiw on the sea.Very good food! The waiters are frendly and nice.Lovely and friendly family.', 'By far the worst service anywhere on Crete and Greece. They were rude and lazy... it’s such a shame that a place like this reflects badly on Greek hospitality, unfortunately the staff definitely weren’t Greek...', 'Great and friendly staff. Limited choice in restaurant. Fantastic view at the seaside.', 'This is a beautiful spot. The E4 passes through the Taverna.', 'Very good accommodation and food in a beautiful area. Great walking.', 'Good hotel, beautiful views of Loutro bay from the terrace and bedrooms, food good.', 'Amazing retreat with great swimming and spectacular views. Good place to get away from it all.', 'The beer was ice cold', 'The most peaceful place in Crete and the best choice to eat fresh fish...', 'Perfect goat meat. Do not order fish or other see products.', 'One of the cutest hotels ive ever been to + amazing food!!', 'מקום נפלא מבחינת הנוף. המגורים והאוכל בינוני', 'Basic, but clean and comfortable with good food and a lovely setting', 'Just need a bit more wifi signal so you could work at night from your room...', 'Stopped off for a white wine and very nice welcoming people in the place', 'Nice place for a breakfast or a dinner with a short walk from loutro.', 'Beautiful spot, very good moussaka', 'simple rooms but the place is little paradise', \"Please don't go there so you spoil it for everyone one else.\", 'מקום מדהים! מומלץ בחוץ', 'Very good fish', 'Quiet accommodation,  peaceful.', 'Great place for a relaxing drink & food', 'Lovely cove and friendly place', 'Excellent!!', 'Outstanding service', 'Unpolite staff.', 'A little paradise. Beautiful place, spotless tavern, delicious and fresh food. Perfect and fast service from everyone..........Hospitable and loving family business.......We highly recommend you to visit.....', 'Magnificent setting and location, the rooms are pleasant apart from the bathrooms which are basic (shower & shower curtain).\\nNo room service (emptying trash, cleaning, etc.) during the stay, cold welcome, …', 'Previously only by boat and no internet available, according to the old travel guides. As times change, an oasis of calm is overtaken by modern times. Either over the mountain (1/2 hour) or around the mountain in 1 hour from Loutro.', 'Perfect cuisine, very good quality.\\nOf particular note:\\nThe always friendly head waiter Bio gives competent advice and anticipates every wish.', 'A holiday paradise that is second to none! We have been regular guests for many years and each time it becomes more difficult to leave. Enjoying the excellent, freshly prepared food on this beautiful terrace is unique. The menu is varied, …', 'Old Fönix Hotel. A really wonderful beautiful place to relax. There is a restaurant and bar in the hotel where you will be served excellent traditional and regional food and drinks. There is a pleasant beach right next to the hotel with …', 'You have to understand the place, isolated in a magnificent little cove that is difficult to access by car. You have to understand the Cretans, they are at home, welcoming and with family, they bring this place to life by making it more …', 'The location of the tavern is a dream. A beautiful walk leads from Loutro to this beautifully located bay in half an hour. …', 'You are looking for peace and quiet, this place is made for you A heavenly place surrounded by mountains with a small beach lined with tamarisk trees. Easily accessible, the water is crystal clear. In terms of accommodation, nothing to say, …', \"It's a lovely place! There aren't many words to define it, but it is definitely a stop that shouldn't be missed on your trip to Crete. Really great food, especially the fish. Excellent value for money (in Italy we dream of prices like this in places like this!\", 'The Old Phoenix is \\u200b\\u200ba great place. Beautiful views, absolute tranquility and very tasty fresh Greek cuisine. The service is very friendly and helpful. I have now eaten almost the entire menu and I cannot say that I was disappointed once. …', 'Small cove between Loutro and Marmara beach. Possibility to rent sunbeds and umbrellas. There is a tavern where you can eat traditional Greek dishes. In addition to the tavern there is also a small hotel.', 'For those seeking peace, calm and serenity, it is an ideal setting with a team that does everything to make your life pleasant. We rented the independent studio, which was perfectly equipped and located a little further away. the charming …', 'Time stops. Good tavern, the prices in loutro are a little higher than those in Crete. It remains a little corner of paradise 🤩 small confidential beach is cool 😎 a beautiful place. No one came for the deckchairs. It must be nice to stay the night …', 'For the restaurant, warm welcome and great service with a breathtaking view, very quiet location.\\nIn short, a little corner of paradise', 'Small pebble beach with crystal clear waters and turquoise backgrounds, uncrowded. We recommend access by boat because access by car is very complicated (winding road in the mountains and stony tracks). The restaurant: Very friendly welcome, excellent service, very good fresh fish. With breathtaking sea views.', 'The Old Phoenix is \\u200b\\u200ba \"hotel\" in a cove/marina behind Loutro: from Loutro you can get there by boat organized by the tree itself, on foot along a 25 minute path, very pleasant if you don\\'t have luggage, or through a very steep dirt road, …', \"We stayed in this small bay after walking the trail starting from Loutro. The walk is worth it for the landscape and is not demanding if you don't do it during the hottest hours (it's all in the sun). The beach is small but equipped and the …\", \"The place has charm, it is unique. Very difficult to reach, we went there by car but the road is challenging (we recommend a 4x4 for safer travel). The beach isn't that great (the water was full of oil). The restaurant is decent, prices are …\", 'Excellent location, the place is paradise, for those who want to be quiet and enjoy the sea, the food, the fresh fish and the company of the locals. Simple, beautiful rooms on the sea! You sleep, eat, swim, all in just a few steps. The …', 'Meal quickly dispatched by \"kindly\" imposing a Greek salad and tzaziki for two. Mini salad, the least garnished we had. Not possible to have dessert, a group from a tour operator chasing us away. The small beach then becomes much less …', 'Very nice small family business with simple rooms (all balconies with sea views). The restaurant serves fresh, homemade food every day. Fantastic is the charming and humorous head waiter Bio, who looks after his guests with great attention. …', 'Beautiful, small hotel right by the sea, adapted to the landscape. Extremely quiet location, only accessible by houseboat. All rooms with sea view and terrace. Great Sfakiotic cuisine and great service. The sea here is still crystal clear, …', 'Hotel ideally located by the sea in a quiet area. Beautiful sea view from the rooms.|Basic comfort, clean. |Very good restaurant, especially for fish. |15 minutes from Loutro via a small path, 45 minutes from Mamara. |Only downside, for the …', 'The poor rating does not concern the food, which is still good, but the cold and unfriendly service. Only a small portion of the menu dishes they brought to us seemed available. We wanted to finish the meal with coffee but the waiter told …', \"We have been here for the third time. It's simply quiet here, completely protected from the wind by the white mountains, guaranteed no rain and relaxing. The water is slightly refreshing thanks to cold freshwater springs but very pleasant …\", \"What a joy to be here once again (I've been coming every year since 1999...).||This family hotel is a treasure. The welcome is friendly, simple, discreet, full of trust. The food is excellent and the products (vegetables; meat, fish, fruit, …\", 'It must be said, the place is exceptional, timeless, the surrounding landscape very beautiful!||But in terms of authenticity, it leaves something to be desired! Fortunately, the lapping waves of the creek are there to help you forget the …', \"attention: the guesthouse can be reached on foot or by taxi boat. However, don't think you are in a quiet place. Microscopic and crowded pebble beach, if you use the pension's deckchairs and umbrellas you pay. For the restaurant and for …\", 'After just a 15-minute walk you can escape the hustle and bustle of Loutro and find a tranquil restaurant with a relaxing, quiet atmosphere. The menu is clear, but completely sufficient for all tastes. The quality was good and the service was very accommodating. A perfect place to relax.', 'Warm welcome and magnificent setting.\\nDiscovered by a GPS error.\\nComplete and appetizing breakfast. …', 'So far everyone in every restaurant in Greece has been very hospitable, cheerful and generous. In this restaurant they seem stressed and rushed, when it is already a bit full you notice the stress. The staff gives the impression that they …', 'Reached by boat or a 7-minute walk along a goat path from the lively port of Loutro, the small bay with the only hotel/restaurant feels like an enchanted place. A place of peace, relaxation, good food and friendly gastronomy. And a good starting point for hikes, especially to the nearby Aradena Gorge.', 'Remote but accessible, family-friendly and warm, you eat very good traditional Greek cuisine at an affordable price. Close to marmara and loutro without having the disadvantages. We come back regularly as a family. The rooms are simple but all have air conditioning, fan, hairdryer and terrace overlooking the sea...', 'at first I thought I would feel like a prisoner of this place which is a bit difficult to reach and leave, but I soon realized that it is the starting point to go to Marmara, Sweet waters and of course Loutro. The quality of the food is …', \"Secluded, pleasant, only accessible on foot or by boat - great. The food is good, after a while there's a bit of a lack of variety (but that's generally the case in Crete; fish, feta and tomatoes then become a bit bland) but a great tip for …\", 'Thank you for the always very pleasant welcome and service at the Old Phoenix!|Very good grilled sardines. We also come back for the dakos, and always a free raki at the end of the meal - have a good visit and hope you like this place, the beach is also nice', 'Those who like peace and quiet will certainly appreciate this place. You can reach the hotel by taking the boat from Loutro. The rooms are simple, but the view from your balcony is priceless. Loutro can be reached on foot within 30 minutes …', 'Fantastic! Food comes straight from the sea for you. To get there by car it is better to rent a 4X4 :-) By car it is doable if you are not afraid of heights and can drive well and quietly. By boat or on foot it is a lot easier and is a …', 'Quiet place, ideal for a relaxing holiday. The road to get there is a bit long, unpaved and bumpy. Friendly and helpful owners, slightly rustic waiters (all male). Clean rooms. A somewhat Spartan place, not as refined as it seems from the outside. \"Seaside refuge\" environment. Advised', \"either by boat or with an off-road vehicle but then an enchanting place. I just ate with a breathtaking view of a cobalt blue sea. Mediterranean atmosphere like you don't meet anymore, simple people like those of the past. good food and unique mountain honey.\", 'Loutro is a little gem in southwest Crete. Because you can only reach the town by car by ferry, Loutro is practically car-free. The place, decorated entirely in white and blue, is located in a sheltered bay with crystal clear water.||The …', \"Close to the Aradena and Loutro gorges and on the water's edge, this place is ideal for those who want to stop time. The welcome is very friendly, the staff ready to find solutions for our comfort. The rooms are simple. I recommend the walk from there to Hora Sfakion, on the mountainside, then return by ferry to Loutro.\", \"A very nice place to relax. The rooms are old but the view and proximity to the clear sea are beautiful. The food in the evening is also great. The breakfast didn't convince us.\", \"07.10.2019. I didn't eat there or stay there. I only passed through it while hiking but I actually found that it is an excellent landmark, very precisely located by Google, for hiking either towards Marmara beach to the west or towards the …\", 'Nicely located restaurant, unfortunately the service is not the best. The waiter extremely\\nmusty and not exactly friendly. 👎 …', 'The Old Phoenix manages to reach 3 balls only thanks to the location and the tranquility emanating from the rooms with a suggestive sea view, certainly not thanks to the terrible cuisine and the desire of the staff to make you feel …', 'Old Phoenix is \\u200b\\u200bdefinitely recommended the hotel and the view are fantastic and the service 5/5 the waiter is very funny and nice Bio I have been there many times now and I love it', 'You have to be motivated to get there because there is no road but a steep and winding track... The game is worth the effort', 'Scammers / Liars / Απατεώνες - Αvoid this place, its dirty, no charm and waiters stare at you like rapists. To be avoided at all costs: dirty, waiters who complain and the boss who cheats on room prices at the start. Να το αποφύγετε. …', 'We arrived at 7 p.m. without reservation, the boss gave us a room and served us a very good meal, very welcoming and respectful staff. The next day we went to Loutro on foot, a very good path connecting the hotel and Loutro. We will stay again if we come to the area', 'Magnificent place, very pleasant and kind staff but the bedding is very very hard and the tavern serves traditional dishes for tourists... Finally the road, if you are adventurous, go there, otherwise take the boat to Chora Sfakion.', 'Magnificent landscape, even more beautiful than the postcards. Warm welcome, the people are lovely. Authentic cuisine, you will eat very well.\\nAbsolutely have!\\nIs unique, is my paradise!!!', 'We arrived in Old Phoenix in the afternoon via sea. The boat slowly slipped into a bay of turquoise water where the hotel was beautifully situated at the end, and we were welcomed by a friendly host. Every morning we woke up to only sounds …', \"Beach okay, service rather unfriendly and money-oriented, a shame. Ate there today, quite a rip off there 4 euros for bread that I didn't order and 4 euros for horrible tzatziki. Avoid.\", 'We arrive here after a short hike from Loutro.||The hotel and restaurant are located in an adorable bathing bay.||You are greeted so warmly by the staff and genuine dishes prepared by the family are served.||It is as if you find yourself 50 …', 'Beautiful little bay with paid sunbeds and umbrellas. Tavern where we enjoyed excellent grilled sardines.', 'The palm of Sfakion province, is a quiet deserted port located on the South side of the WHITE MOUNTAINS\\nThe family of \"ATHITIDES\" …', 'Great location of course!\\nDelicious seasonal meats!', 'Great peaceful place to relax and enjoy your holiday. Not a super luxury place, but nice and clean. Wonderful nature and lovely close to Loutro, where you can shop and enjoy good local food. The water is among some of the best I have swum …', 'Excellent beach with really beautiful spots to swim and appreciate the true colors of Greece', 'Nice service, good food, friendly people, good rooms and beautiful scenery. Definitely worth a visit 👍 …', 'getting here is easy by boat from Chora Sfakion and much more difficult by car by taking a detour - the road is very narrow and intended for off-road vehicles, much worse than on Balos. But the water here is crystal clear, the boats seem to float in the air.', 'If you want time and peace for reflection, this hotel is excellent. They are all alone in a bay and have an excellent restaurant. There are relatively few tourists and you have access to hikes in the mountains, as well as in a large gorge. …', \"For the first time, my wife and I have taken a vacation the way a vacation should be taken. After 14 days in Old Phoenis, we are totally rested and ready for the next year's work. It is the first time we visited the place, and we really …\", 'Unique location that came out of heaven!! The sea is crystal blue and the waters very clear!\\nI highly recommend it, however, to get there you will have a little difficulty …', 'We came to Old Phoenix by car - it is not recommended if you do not have a car with good ground clearance and good nerves. The hotel is beautifully situated in the bay west of Loutro. There is a simple standard, friendly service and clean …', \"Obviously the setting is magnificent but it is a real shame that the managers and staff are not welcoming.... they don't care! if you go there check the price of your nights when you arrive. Disappointing.\", \"Arrived on a warm June evening by sea. The surroundings were as beautiful as a postcard, the sounds were grasshoppers, lapping waves and goats.||Good traditional food served on checkered tablecloths with the finest sea view.||You almost have to pinch your arm not to believe it's just a dream.\", \"Just, perfect, very friendly staff, comfortable rooms, delicious food, very comfortable beaches, only drawback, in the morning, the local taxi boat warms up its engine and during breakfast, it's not the most pleasant, but, fault quickly erased when you get up around 10 a.m., so go for it, it's worth it\", 'Heavenly place in a small hidden cove, the restaurant is nice but the hotel is a little disappointing: cold water in the shower, wifi too slow to use, very dirty floor.', 'Picturesque view, sitting right on the water. Just had something to drink in the restaurant. But you can settle here.', 'It is a resort in South Crete. The rooms are clean although many of them are very old. The owners are helpful and quite willing. The food is very good but expensive! I justify the cost as the food is brought in by boat, but I guess a lot of it is home grown. The view from the rooms is perfect!!!', \"Badly received twice over two years, we've been coming to the area for six years, now we don't stop...when we go to Marmara Beach...we prefer to eat at Loutro or Marmara.\", 'Words are unnecessary for Finikas of Sfakia! ||Small port of the South, next to Loutro. The crystal clear waters invite you! And the restaurant above, offers traditional local flavors in a Parisian environment on the ground floor of an old …', 'A magnificent place in the south of the ridge, a tavern with quality cuisine, a warm welcome from the waiter who made the effort to speak French', 'I have been a very long-time regular (15 years) at this guesthouse in southern Crete.||The charming and attentive welcome from the family and staff, the simple and delicious food, the tranquility, the charm of the site and the beauty of this small cove, make it a ||restful and beneficial stay.', 'Hidden spot, you can swim and snorkel there. Crystal clear water with lots of fish.', 'Very good food and warm people...', 'Very nice beach.\\nGood service, very nice tastes in the tavern.', \"Beautiful beach with emerald waters. The food in the tavern is excellent.. Don't forget to try the zigariasto and the Sfacian pies for breakfast\", 'Expensive tavern for no reason!! far away!!!', 'Food of a high standard with a beautiful view of the bay, despite the difficult commute, it is really worth it', 'Very nicely located and not too crowded.\\nPrices are ok', 'The place is just perfect, the absolute relaxation!!! The food is excellent in the tavern. Hospitable people!', 'Very beautiful and pleasant place..with hospitable people and a very nice atmosphere..', 'A real paradise on earth of quiet and meditation.', 'calm place to relax!! ideal for swimming and for children!! calm sea and the main Wi-Fi Code!!', 'Difficult access, small beach with pebbles and not clean.', 'The service was very slow and the Greek salad was the most expensive and smallest from the visit to Crete', 'Delicious food and friendly service at affordable prices 😁 …', 'Fantastic location...\\nIncredible sea.... Turquoise waters...', 'Excellent location for relaxing and enjoying the sea and landscape', \"I've been going to this place for as long as I've been alive and I've never gotten bored\", 'Here we only took a bath before leaving, after having been to Loutro, this is also worth it.', 'Beautiful place ! Clear water ! Quiet and welcoming environment!', 'Charming place - nice owner - food is good, but sometimes a bit greasy', 'Fabulous place, cut off from the world, simple but so authentic🏖 very warm welcome …', 'Super nice place with unique charm!', 'An excellent place for a secluded holiday for lovers of the sea, sun, underwater photography and hiking.', 'Very helpful polite staff and good food', 'Authentic, simple, perfect!', 'Very good cuisine, friendly staff, gladly again', 'Nice tavern on a secluded beach.', 'Fantastically beautiful nature. Lovely food and super service.', 'Good service and reasonable prices. Fantastic location and good food.', 'Great hospitality and unique people!!', 'Beautiful environment, good food, clean sea', 'Nice bar/restaurant on a lovely beach', 'Finkas vendi ma imir per pushume ushcimet mate mira', 'Very good service', 'Good food, relaxed environment', '...a great, quiet place in the southwest of Crete...', 'Very good restaurant and super nice', 'Magical atmosphere and tranquility!', 'The perfect view!', 'Yummy', 'Very beautiful!', 'Flawless', 'Everything is great!!', 'Amazing place', 'Magical place.')\n"
     ]
    }
   ],
   "source": [
    "sequence = tuple(df.text.tolist())\n",
    "print(sequence)"
   ]
  },
  {
   "cell_type": "code",
   "execution_count": 54,
   "metadata": {},
   "outputs": [
    {
     "ename": "TypeError",
     "evalue": "can only concatenate str (not \"tuple\") to str",
     "output_type": "error",
     "traceback": [
      "\u001b[1;31m---------------------------------------------------------------------------\u001b[0m",
      "\u001b[1;31mTypeError\u001b[0m                                 Traceback (most recent call last)",
      "\u001b[1;32mc:\\Users\\DanaTal\\projects\\nlp\\Bridezilla_NLP\\scrape_google_reviews\\main_nb.ipynb Cell 25\u001b[0m line \u001b[0;36m2\n\u001b[0;32m      <a href='vscode-notebook-cell:/c%3A/Users/DanaTal/projects/nlp/Bridezilla_NLP/scrape_google_reviews/main_nb.ipynb#X42sZmlsZQ%3D%3D?line=0'>1</a>\u001b[0m \u001b[39m# tokenize one review\u001b[39;00m\n\u001b[1;32m----> <a href='vscode-notebook-cell:/c%3A/Users/DanaTal/projects/nlp/Bridezilla_NLP/scrape_google_reviews/main_nb.ipynb#X42sZmlsZQ%3D%3D?line=1'>2</a>\u001b[0m inputs \u001b[39m=\u001b[39m tokenizer\u001b[39m.\u001b[39mencode(\u001b[39m\"\u001b[39;49m\u001b[39msummarize: \u001b[39;49m\u001b[39m\"\u001b[39;49m \u001b[39m+\u001b[39;49m sequence, return_tensors\u001b[39m=\u001b[39m\u001b[39m'\u001b[39m\u001b[39mpt\u001b[39m\u001b[39m'\u001b[39m, max_length\u001b[39m=\u001b[39m\u001b[39m512\u001b[39m, truncation\u001b[39m=\u001b[39m\u001b[39mTrue\u001b[39;00m)\n",
      "\u001b[1;31mTypeError\u001b[0m: can only concatenate str (not \"tuple\") to str"
     ]
    }
   ],
   "source": [
    "# tokenize one review\n",
    "inputs = tokenizer.encode(\"summarize: \" + sequence, return_tensors='pt', max_length=512, truncation=True)"
   ]
  },
  {
   "cell_type": "code",
   "execution_count": null,
   "metadata": {},
   "outputs": [],
   "source": []
  },
  {
   "cell_type": "code",
   "execution_count": null,
   "metadata": {},
   "outputs": [],
   "source": []
  }
 ],
 "metadata": {
  "kernelspec": {
   "display_name": "dana",
   "language": "python",
   "name": "python3"
  },
  "language_info": {
   "codemirror_mode": {
    "name": "ipython",
    "version": 3
   },
   "file_extension": ".py",
   "mimetype": "text/x-python",
   "name": "python",
   "nbconvert_exporter": "python",
   "pygments_lexer": "ipython3",
   "version": "3.11.5"
  }
 },
 "nbformat": 4,
 "nbformat_minor": 2
}
