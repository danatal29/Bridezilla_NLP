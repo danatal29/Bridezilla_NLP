{
 "cells": [
  {
   "cell_type": "markdown",
   "metadata": {},
   "source": [
    "### Main notebook"
   ]
  },
  {
   "cell_type": "code",
   "execution_count": 4,
   "metadata": {},
   "outputs": [],
   "source": [
    "from scraper import DataLoader"
   ]
  },
  {
   "cell_type": "markdown",
   "metadata": {},
   "source": [
    "### Scrape google map's reviews into dataframe"
   ]
  },
  {
   "cell_type": "code",
   "execution_count": 3,
   "metadata": {},
   "outputs": [],
   "source": [
    "# insert goole maps business url\n",
    "url = 'https://maps.app.goo.gl/geQwCeu2riPkrSqt8'\n"
   ]
  },
  {
   "cell_type": "code",
   "execution_count": 5,
   "metadata": {},
   "outputs": [],
   "source": [
    "# Loader init\n",
    "loader = DataLoader(url)"
   ]
  },
  {
   "cell_type": "code",
   "execution_count": 6,
   "metadata": {},
   "outputs": [],
   "source": [
    "# navigate to the reviews page\n",
    "loader.navigate()"
   ]
  },
  {
   "cell_type": "code",
   "execution_count": 7,
   "metadata": {},
   "outputs": [
    {
     "name": "stdout",
     "output_type": "stream",
     "text": [
      "the type of each review is: <class 'selenium.webdriver.remote.webelement.WebElement'>\n"
     ]
    },
    {
     "data": {
      "text/html": [
       "<div>\n",
       "<style scoped>\n",
       "    .dataframe tbody tr th:only-of-type {\n",
       "        vertical-align: middle;\n",
       "    }\n",
       "\n",
       "    .dataframe tbody tr th {\n",
       "        vertical-align: top;\n",
       "    }\n",
       "\n",
       "    .dataframe thead th {\n",
       "        text-align: right;\n",
       "    }\n",
       "</style>\n",
       "<table border=\"1\" class=\"dataframe\">\n",
       "  <thead>\n",
       "    <tr style=\"text-align: right;\">\n",
       "      <th></th>\n",
       "      <th>text_review</th>\n",
       "      <th>stars</th>\n",
       "      <th>time</th>\n",
       "    </tr>\n",
       "  </thead>\n",
       "  <tbody>\n",
       "    <tr>\n",
       "      <th>0</th>\n",
       "      <td>הגענו אני ובעלי לחגוג לו יום הולדת במקום.\\nצוו...</td>\n",
       "      <td>5</td>\n",
       "      <td>לפני 5 חודשים</td>\n",
       "    </tr>\n",
       "    <tr>\n",
       "      <th>1</th>\n",
       "      <td>הגענו אני ובעלי לחגוג לו יום הולדת במקום.\\nצוו...</td>\n",
       "      <td>5</td>\n",
       "      <td>לפני 5 חודשים</td>\n",
       "    </tr>\n",
       "    <tr>\n",
       "      <th>2</th>\n",
       "      <td>זו לא הפעם הראשונה שאני מבקרת ברוסטיקו אך כל פ...</td>\n",
       "      <td>5</td>\n",
       "      <td>לפני שנה</td>\n",
       "    </tr>\n",
       "    <tr>\n",
       "      <th>3</th>\n",
       "      <td>זו לא הפעם הראשונה שאני מבקרת ברוסטיקו אך כל פ...</td>\n",
       "      <td>5</td>\n",
       "      <td>לפני שנה</td>\n",
       "    </tr>\n",
       "    <tr>\n",
       "      <th>4</th>\n",
       "      <td>אוכל מאוד טעים  ואווירה נהדרת..ישבנו בחוץ, ולמ...</td>\n",
       "      <td>5</td>\n",
       "      <td>לפני 8 חודשים</td>\n",
       "    </tr>\n",
       "    <tr>\n",
       "      <th>5</th>\n",
       "      <td>אוכל מאוד טעים  ואווירה נהדרת..ישבנו בחוץ, ולמ...</td>\n",
       "      <td>5</td>\n",
       "      <td>לפני 8 חודשים</td>\n",
       "    </tr>\n",
       "    <tr>\n",
       "      <th>6</th>\n",
       "      <td>האוכל היה מצוין אבל השרות איטי להכעיס. לפחות ה...</td>\n",
       "      <td>4</td>\n",
       "      <td>לפני 8 חודשים</td>\n",
       "    </tr>\n",
       "    <tr>\n",
       "      <th>7</th>\n",
       "      <td>האוכל היה מצוין אבל השרות איטי להכעיס. לפחות ה...</td>\n",
       "      <td>4</td>\n",
       "      <td>לפני 8 חודשים</td>\n",
       "    </tr>\n",
       "    <tr>\n",
       "      <th>8</th>\n",
       "      <td>מקום חמוד, חלק מהאוכל היה מעולה וחלק טעון שיפו...</td>\n",
       "      <td>3</td>\n",
       "      <td>לפני שנה</td>\n",
       "    </tr>\n",
       "    <tr>\n",
       "      <th>9</th>\n",
       "      <td>מקום חמוד, חלק מהאוכל היה מעולה וחלק טעון שיפו...</td>\n",
       "      <td>3</td>\n",
       "      <td>לפני שנה</td>\n",
       "    </tr>\n",
       "    <tr>\n",
       "      <th>10</th>\n",
       "      <td>נתחיל בזה שהשירות מעולה- מקצועי, אדיב ונעים.\\n...</td>\n",
       "      <td>4</td>\n",
       "      <td>לפני שנה</td>\n",
       "    </tr>\n",
       "    <tr>\n",
       "      <th>11</th>\n",
       "      <td>נתחיל בזה שהשירות מעולה- מקצועי, אדיב ונעים.\\n...</td>\n",
       "      <td>4</td>\n",
       "      <td>לפני שנה</td>\n",
       "    </tr>\n",
       "    <tr>\n",
       "      <th>12</th>\n",
       "      <td>תמיד כיף לאכול את המנות האהובות.\\nאני חייבת לצ...</td>\n",
       "      <td>4</td>\n",
       "      <td>לפני שנה</td>\n",
       "    </tr>\n",
       "    <tr>\n",
       "      <th>13</th>\n",
       "      <td>תמיד כיף לאכול את המנות האהובות.\\nאני חייבת לצ...</td>\n",
       "      <td>4</td>\n",
       "      <td>לפני שנה</td>\n",
       "    </tr>\n",
       "    <tr>\n",
       "      <th>14</th>\n",
       "      <td>אוהבים מאד את רשת רוסטיקו,אוכלים הרבה בכל הסני...</td>\n",
       "      <td>4</td>\n",
       "      <td>לפני שנה</td>\n",
       "    </tr>\n",
       "    <tr>\n",
       "      <th>15</th>\n",
       "      <td>אוהבים מאד את רשת רוסטיקו,אוכלים הרבה בכל הסני...</td>\n",
       "      <td>4</td>\n",
       "      <td>לפני שנה</td>\n",
       "    </tr>\n",
       "    <tr>\n",
       "      <th>16</th>\n",
       "      <td>מנות הרמה גבוהה . טעים מאוד שירות טוב מיקום סב...</td>\n",
       "      <td>5</td>\n",
       "      <td>לפני 6 חודשים</td>\n",
       "    </tr>\n",
       "    <tr>\n",
       "      <th>17</th>\n",
       "      <td>מנות הרמה גבוהה . טעים מאוד שירות טוב מיקום סב...</td>\n",
       "      <td>5</td>\n",
       "      <td>לפני 6 חודשים</td>\n",
       "    </tr>\n",
       "    <tr>\n",
       "      <th>18</th>\n",
       "      <td>סניף נהדר עם שירות שהוא תמיד טוב, דואג, נדיב ו...</td>\n",
       "      <td>4</td>\n",
       "      <td>לפני 11 חודשים</td>\n",
       "    </tr>\n",
       "    <tr>\n",
       "      <th>19</th>\n",
       "      <td>סניף נהדר עם שירות שהוא תמיד טוב, דואג, נדיב ו...</td>\n",
       "      <td>4</td>\n",
       "      <td>לפני 11 חודשים</td>\n",
       "    </tr>\n",
       "  </tbody>\n",
       "</table>\n",
       "</div>"
      ],
      "text/plain": [
       "                                          text_review stars            time\n",
       "0   הגענו אני ובעלי לחגוג לו יום הולדת במקום.\\nצוו...     5   לפני 5 חודשים\n",
       "1   הגענו אני ובעלי לחגוג לו יום הולדת במקום.\\nצוו...     5   לפני 5 חודשים\n",
       "2   זו לא הפעם הראשונה שאני מבקרת ברוסטיקו אך כל פ...     5        לפני שנה\n",
       "3   זו לא הפעם הראשונה שאני מבקרת ברוסטיקו אך כל פ...     5        לפני שנה\n",
       "4   אוכל מאוד טעים  ואווירה נהדרת..ישבנו בחוץ, ולמ...     5   לפני 8 חודשים\n",
       "5   אוכל מאוד טעים  ואווירה נהדרת..ישבנו בחוץ, ולמ...     5   לפני 8 חודשים\n",
       "6   האוכל היה מצוין אבל השרות איטי להכעיס. לפחות ה...     4   לפני 8 חודשים\n",
       "7   האוכל היה מצוין אבל השרות איטי להכעיס. לפחות ה...     4   לפני 8 חודשים\n",
       "8   מקום חמוד, חלק מהאוכל היה מעולה וחלק טעון שיפו...     3        לפני שנה\n",
       "9   מקום חמוד, חלק מהאוכל היה מעולה וחלק טעון שיפו...     3        לפני שנה\n",
       "10  נתחיל בזה שהשירות מעולה- מקצועי, אדיב ונעים.\\n...     4        לפני שנה\n",
       "11  נתחיל בזה שהשירות מעולה- מקצועי, אדיב ונעים.\\n...     4        לפני שנה\n",
       "12  תמיד כיף לאכול את המנות האהובות.\\nאני חייבת לצ...     4        לפני שנה\n",
       "13  תמיד כיף לאכול את המנות האהובות.\\nאני חייבת לצ...     4        לפני שנה\n",
       "14  אוהבים מאד את רשת רוסטיקו,אוכלים הרבה בכל הסני...     4        לפני שנה\n",
       "15  אוהבים מאד את רשת רוסטיקו,אוכלים הרבה בכל הסני...     4        לפני שנה\n",
       "16  מנות הרמה גבוהה . טעים מאוד שירות טוב מיקום סב...     5   לפני 6 חודשים\n",
       "17  מנות הרמה גבוהה . טעים מאוד שירות טוב מיקום סב...     5   לפני 6 חודשים\n",
       "18  סניף נהדר עם שירות שהוא תמיד טוב, דואג, נדיב ו...     4  לפני 11 חודשים\n",
       "19  סניף נהדר עם שירות שהוא תמיד טוב, דואג, נדיב ו...     4  לפני 11 חודשים"
      ]
     },
     "execution_count": 7,
     "metadata": {},
     "output_type": "execute_result"
    }
   ],
   "source": [
    "loader.create_reviews_df()\n",
    "loader.df"
   ]
  },
  {
   "cell_type": "code",
   "execution_count": null,
   "metadata": {},
   "outputs": [],
   "source": []
  }
 ],
 "metadata": {
  "kernelspec": {
   "display_name": "dana",
   "language": "python",
   "name": "python3"
  },
  "language_info": {
   "codemirror_mode": {
    "name": "ipython",
    "version": 3
   },
   "file_extension": ".py",
   "mimetype": "text/x-python",
   "name": "python",
   "nbconvert_exporter": "python",
   "pygments_lexer": "ipython3",
   "version": "3.11.5"
  }
 },
 "nbformat": 4,
 "nbformat_minor": 2
}
