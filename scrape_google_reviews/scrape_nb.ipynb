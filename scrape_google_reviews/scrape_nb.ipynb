{
 "cells": [
  {
   "cell_type": "markdown",
   "metadata": {},
   "source": [
    "#### web Driver installation and Url input\n",
    "\n",
    "What is selenium? \n",
    "A WebDriver is a browser automation framework. It accepts commands and sends them to a browser.\n",
    "\n"
   ]
  },
  {
   "cell_type": "code",
   "execution_count": 1,
   "metadata": {},
   "outputs": [],
   "source": [
    "from selenium import webdriver\n",
    "from selenium.webdriver.common.by import By\n",
    "from selenium.webdriver.support.ui import WebDriverWait\n",
    "from selenium.webdriver.support import expected_conditions as EC\n",
    "\n",
    "driver = webdriver.Chrome()  # Or whichever browser/driver you're using\n",
    "# define url\n",
    "#url = 'https://maps.app.goo.gl/geQwCeu2riPkrSqt8'\n",
    "url = 'https://www.google.com/maps/place/Old-Phoenix+Rooms+%26+Restaurant/@35.1999187,24.0721182,15z/data=!4m9!3m8!1s0x136061919fe41577:0x609b596cdbd2b8be!5m2!4m1!1i2!8m2!3d35.1999187!4d24.0721182!16s%2Fg%2F1tml7nv7?entry=ttu'\n",
    "driver.get(url)"
   ]
  },
  {
   "cell_type": "markdown",
   "metadata": {},
   "source": [
    "#### Navigate to the reviews tab via Selemium"
   ]
  },
  {
   "cell_type": "code",
   "execution_count": 8,
   "metadata": {},
   "outputs": [],
   "source": [
    "# xpath = \"//button[contains(., 'ביקורות') or contains(., 'REVIEWS')]\"\n",
    "# wait = WebDriverWait(driver, 2)\n",
    "manu_xpath = '//*[@id=\"omnibox-singlebox\"]/div/div[1]/button'\n",
    "manu_button = wait.until(EC.element_to_be_clickable((By.XPATH, manu_xpath)))\n",
    "manu_button.click()\n",
    "wait = WebDriverWait(driver, 1)\n",
    "lan = '//*[@id=\"settings\"]/div/div[2]/ul/div[7]/li[1]/button'\n",
    "language_button = wait.until(EC.element_to_be_clickable((By.XPATH, lan)))\n",
    "language_button.click()\n",
    "wait = WebDriverWait(driver, 1)\n",
    "english_xpath = '//*[@id=\"modal-dialog\"]/div/div[2]/div/div[2]/div/div/div/div[2]/div[1]/div/a/span'\n",
    "english_button = wait.until(EC.element_to_be_clickable((By.XPATH, english_xpath)))\n",
    "english_button.click()\n",
    "# route_button = wait.until(EC.element_to_be_clickable((By.XPATH, xpath)))\n",
    "# route_button.click()"
   ]
  },
  {
   "cell_type": "code",
   "execution_count": 3,
   "metadata": {},
   "outputs": [],
   "source": [
    "manu_xpath = '//*[@id=\"omnibox-singlebox\"]/div/div[1]/button'\n",
    "manu_button = wait.until(EC.element_to_be_clickable((By.XPATH, manu_xpath)))\n",
    "manu_button.click()"
   ]
  },
  {
   "cell_type": "code",
   "execution_count": 10,
   "metadata": {},
   "outputs": [],
   "source": [
    "import time\n",
    "from selenium.webdriver.common.keys import Keys\n",
    "\n",
    "# Scrolling by sending PAGE_DOWN key presses\n",
    "body = driver.find_element(By.XPATH, \"//div[contains(@class, 'm6QErb') and contains(@class, 'DxyBCb') and contains(@class, 'kA9KIf') and contains(@class, 'dS8AEf')]\")\n",
    "for _ in range(20):  # Adjust the range according to the number of scrolls needed\n",
    "    body.send_keys(Keys.PAGE_DOWN)\n",
    "    #print\n",
    "    time.sleep(1)"
   ]
  },
  {
   "cell_type": "code",
   "execution_count": 11,
   "metadata": {},
   "outputs": [
    {
     "name": "stdout",
     "output_type": "stream",
     "text": [
      "the type of each review is: <class 'selenium.webdriver.remote.webelement.WebElement'>\n",
      "140\n"
     ]
    }
   ],
   "source": [
    "reviews = driver.find_elements(By.XPATH, \"//div[@data-review-id]\")\n",
    "print(f'the type of each review is: {type(reviews[0])}')\n",
    "print(len(reviews))"
   ]
  },
  {
   "cell_type": "code",
   "execution_count": 12,
   "metadata": {},
   "outputs": [
    {
     "data": {
      "text/html": [
       "<div>\n",
       "<style scoped>\n",
       "    .dataframe tbody tr th:only-of-type {\n",
       "        vertical-align: middle;\n",
       "    }\n",
       "\n",
       "    .dataframe tbody tr th {\n",
       "        vertical-align: top;\n",
       "    }\n",
       "\n",
       "    .dataframe thead th {\n",
       "        text-align: right;\n",
       "    }\n",
       "</style>\n",
       "<table border=\"1\" class=\"dataframe\">\n",
       "  <thead>\n",
       "    <tr style=\"text-align: right;\">\n",
       "      <th></th>\n",
       "      <th>text_review</th>\n",
       "      <th>stars</th>\n",
       "      <th>time</th>\n",
       "    </tr>\n",
       "  </thead>\n",
       "  <tbody>\n",
       "  </tbody>\n",
       "</table>\n",
       "</div>"
      ],
      "text/plain": [
       "Empty DataFrame\n",
       "Columns: [text_review, stars, time]\n",
       "Index: []"
      ]
     },
     "execution_count": 12,
     "metadata": {},
     "output_type": "execute_result"
    }
   ],
   "source": [
    "\n",
    "# define an empty DataFrame for all of the reviews\n",
    "import pandas as pd\n",
    "df = pd.DataFrame(columns=['text_review', 'stars', 'time'])\n",
    "df"
   ]
  },
  {
   "cell_type": "code",
   "execution_count": 13,
   "metadata": {},
   "outputs": [],
   "source": [
    "# Extract the content of each review and insert it to the dataframe\n",
    "from schemas import Review\n",
    "import re\n",
    "\n",
    "for i, review in enumerate(reviews):\n",
    "    review_text = review.find_element(By.XPATH, f\".//span[contains(@class, '{Review.TEXT.value}')]\").text\n",
    "    review_rating = review.find_element(By.XPATH, f\".//span[contains(@class, '{Review.STARS.value}')]\").get_attribute('aria-label')\n",
    "    try:\n",
    "        review_rating_int = int(re.search(r'\\d', review_rating).group(0))\n",
    "    except:\n",
    "        if 'כוכב אחד' in review_rating:\n",
    "            review_rating_int = 1\n",
    "    review_time =  review.find_element(By.XPATH, f\".//span[contains(@class, '{Review.TIME.value}')]\").text\n",
    "    row = pd.DataFrame( {'text_review': [review_text], 'stars': [review_rating_int], 'time': [review_time]} )\n",
    "    df = pd.concat([df, row], ignore_index=True)"
   ]
  },
  {
   "cell_type": "code",
   "execution_count": 18,
   "metadata": {},
   "outputs": [
    {
     "data": {
      "text/plain": [
       "70"
      ]
     },
     "execution_count": 18,
     "metadata": {},
     "output_type": "execute_result"
    }
   ],
   "source": [
    "len(df.text_review.unique())"
   ]
  },
  {
   "cell_type": "code",
   "execution_count": 7,
   "metadata": {},
   "outputs": [
    {
     "data": {
      "text/plain": [
       "20"
      ]
     },
     "execution_count": 7,
     "metadata": {},
     "output_type": "execute_result"
    }
   ],
   "source": [
    "len(df.text_review.unique())"
   ]
  },
  {
   "cell_type": "markdown",
   "metadata": {},
   "source": [
    "#### Extract Reviews into pandas DataFrame\n",
    "\n",
    "TODO: explain xpath, div"
   ]
  },
  {
   "cell_type": "code",
   "execution_count": 21,
   "metadata": {},
   "outputs": [
    {
     "data": {
      "text/plain": [
       "20"
      ]
     },
     "execution_count": 21,
     "metadata": {},
     "output_type": "execute_result"
    }
   ],
   "source": [
    "reviews = driver.find_elements(By.XPATH, \"//div[@data-review-id]\")\n",
    "len(reviews)"
   ]
  },
  {
   "cell_type": "code",
   "execution_count": 22,
   "metadata": {},
   "outputs": [
    {
     "data": {
      "text/html": [
       "<div>\n",
       "<style scoped>\n",
       "    .dataframe tbody tr th:only-of-type {\n",
       "        vertical-align: middle;\n",
       "    }\n",
       "\n",
       "    .dataframe tbody tr th {\n",
       "        vertical-align: top;\n",
       "    }\n",
       "\n",
       "    .dataframe thead th {\n",
       "        text-align: right;\n",
       "    }\n",
       "</style>\n",
       "<table border=\"1\" class=\"dataframe\">\n",
       "  <thead>\n",
       "    <tr style=\"text-align: right;\">\n",
       "      <th></th>\n",
       "      <th>text_review</th>\n",
       "      <th>stars</th>\n",
       "      <th>time</th>\n",
       "    </tr>\n",
       "  </thead>\n",
       "  <tbody>\n",
       "  </tbody>\n",
       "</table>\n",
       "</div>"
      ],
      "text/plain": [
       "Empty DataFrame\n",
       "Columns: [text_review, stars, time]\n",
       "Index: []"
      ]
     },
     "execution_count": 22,
     "metadata": {},
     "output_type": "execute_result"
    }
   ],
   "source": [
    "# define an empty DataFrame for all of the reviews\n",
    "import pandas as pd\n",
    "df = pd.DataFrame(columns=['text_review', 'stars', 'time'])\n",
    "df"
   ]
  },
  {
   "cell_type": "code",
   "execution_count": 23,
   "metadata": {},
   "outputs": [],
   "source": [
    "# Extract the content of each review and insert it to the dataframe\n",
    "from schemas import Review\n",
    "import re\n",
    "\n",
    "for i, review in enumerate(all_reviews):\n",
    "    review_text = review.find_element(By.XPATH, f\".//span[contains(@class, '{Review.TEXT.value}')]\").text\n",
    "    review_rating = review.find_element(By.XPATH, f\".//span[contains(@class, '{Review.STARS.value}')]\").get_attribute('aria-label')\n",
    "    try:\n",
    "        review_rating_int = int(re.search(r'\\d', review_rating).group(0))\n",
    "    except:\n",
    "        if 'כוכב אחד' in review_rating:\n",
    "            review_rating_int = 1\n",
    "    review_time =  review.find_element(By.XPATH, f\".//span[contains(@class, '{Review.TIME.value}')]\").text\n",
    "    row = pd.DataFrame( {'text_review': [review_text], 'stars': [review_rating_int], 'time': [review_time]} )\n",
    "    df = pd.concat([df, row], ignore_index=True)\n",
    "    "
   ]
  },
  {
   "cell_type": "code",
   "execution_count": 11,
   "metadata": {},
   "outputs": [
    {
     "ename": "TypeError",
     "evalue": "Series.unique() takes 1 positional argument but 2 were given",
     "output_type": "error",
     "traceback": [
      "\u001b[1;31m---------------------------------------------------------------------------\u001b[0m",
      "\u001b[1;31mTypeError\u001b[0m                                 Traceback (most recent call last)",
      "\u001b[1;32mc:\\Users\\DanaTal\\projects\\nlp\\Bridezilla_NLP\\scrape_google_reviews\\scrape_nb.ipynb Cell 14\u001b[0m line \u001b[0;36m1\n\u001b[1;32m----> <a href='vscode-notebook-cell:/c%3A/Users/DanaTal/projects/nlp/Bridezilla_NLP/scrape_google_reviews/scrape_nb.ipynb#X65sZmlsZQ%3D%3D?line=0'>1</a>\u001b[0m df\u001b[39m.\u001b[39;49mloc[df\u001b[39m.\u001b[39;49mtext_review\u001b[39m.\u001b[39;49munique]\n",
      "File \u001b[1;32mc:\\Users\\DanaTal\\anaconda3\\envs\\dana\\Lib\\site-packages\\pandas\\core\\indexing.py:1152\u001b[0m, in \u001b[0;36m_LocationIndexer.__getitem__\u001b[1;34m(self, key)\u001b[0m\n\u001b[0;32m   1148\u001b[0m \u001b[39melse\u001b[39;00m:\n\u001b[0;32m   1149\u001b[0m     \u001b[39m# we by definition only have the 0th axis\u001b[39;00m\n\u001b[0;32m   1150\u001b[0m     axis \u001b[39m=\u001b[39m \u001b[39mself\u001b[39m\u001b[39m.\u001b[39maxis \u001b[39mor\u001b[39;00m \u001b[39m0\u001b[39m\n\u001b[1;32m-> 1152\u001b[0m     maybe_callable \u001b[39m=\u001b[39m com\u001b[39m.\u001b[39;49mapply_if_callable(key, \u001b[39mself\u001b[39;49m\u001b[39m.\u001b[39;49mobj)\n\u001b[0;32m   1153\u001b[0m     \u001b[39mreturn\u001b[39;00m \u001b[39mself\u001b[39m\u001b[39m.\u001b[39m_getitem_axis(maybe_callable, axis\u001b[39m=\u001b[39maxis)\n",
      "File \u001b[1;32mc:\\Users\\DanaTal\\anaconda3\\envs\\dana\\Lib\\site-packages\\pandas\\core\\common.py:379\u001b[0m, in \u001b[0;36mapply_if_callable\u001b[1;34m(maybe_callable, obj, **kwargs)\u001b[0m\n\u001b[0;32m    368\u001b[0m \u001b[39m\u001b[39m\u001b[39m\"\"\"\u001b[39;00m\n\u001b[0;32m    369\u001b[0m \u001b[39mEvaluate possibly callable input using obj and kwargs if it is callable,\u001b[39;00m\n\u001b[0;32m    370\u001b[0m \u001b[39motherwise return as it is.\u001b[39;00m\n\u001b[1;32m   (...)\u001b[0m\n\u001b[0;32m    376\u001b[0m \u001b[39m**kwargs\u001b[39;00m\n\u001b[0;32m    377\u001b[0m \u001b[39m\"\"\"\u001b[39;00m\n\u001b[0;32m    378\u001b[0m \u001b[39mif\u001b[39;00m \u001b[39mcallable\u001b[39m(maybe_callable):\n\u001b[1;32m--> 379\u001b[0m     \u001b[39mreturn\u001b[39;00m maybe_callable(obj, \u001b[39m*\u001b[39;49m\u001b[39m*\u001b[39;49mkwargs)\n\u001b[0;32m    381\u001b[0m \u001b[39mreturn\u001b[39;00m maybe_callable\n",
      "\u001b[1;31mTypeError\u001b[0m: Series.unique() takes 1 positional argument but 2 were given"
     ]
    }
   ],
   "source": [
    "df.loc[df.text_review.unique]"
   ]
  },
  {
   "cell_type": "markdown",
   "metadata": {},
   "source": [
    "#### Display"
   ]
  },
  {
   "cell_type": "code",
   "execution_count": 8,
   "metadata": {},
   "outputs": [
    {
     "name": "stdout",
     "output_type": "stream",
     "text": [
      "Rating: 4.25 \n"
     ]
    },
    {
     "data": {
      "text/html": [
       "<div>\n",
       "<style scoped>\n",
       "    .dataframe tbody tr th:only-of-type {\n",
       "        vertical-align: middle;\n",
       "    }\n",
       "\n",
       "    .dataframe tbody tr th {\n",
       "        vertical-align: top;\n",
       "    }\n",
       "\n",
       "    .dataframe thead th {\n",
       "        text-align: right;\n",
       "    }\n",
       "</style>\n",
       "<table border=\"1\" class=\"dataframe\">\n",
       "  <thead>\n",
       "    <tr style=\"text-align: right;\">\n",
       "      <th></th>\n",
       "      <th>text_review</th>\n",
       "      <th>stars</th>\n",
       "      <th>time</th>\n",
       "    </tr>\n",
       "  </thead>\n",
       "  <tbody>\n",
       "    <tr>\n",
       "      <th>0</th>\n",
       "      <td>הגענו אני ובעלי לחגוג לו יום הולדת במקום.\\nצוו...</td>\n",
       "      <td>5</td>\n",
       "      <td>לפני 6 חודשים</td>\n",
       "    </tr>\n",
       "    <tr>\n",
       "      <th>1</th>\n",
       "      <td>הגענו אני ובעלי לחגוג לו יום הולדת במקום.\\nצוו...</td>\n",
       "      <td>5</td>\n",
       "      <td>לפני 6 חודשים</td>\n",
       "    </tr>\n",
       "    <tr>\n",
       "      <th>2</th>\n",
       "      <td>זו לא הפעם הראשונה שאני מבקרת ברוסטיקו אך כל פ...</td>\n",
       "      <td>5</td>\n",
       "      <td>לפני שנה</td>\n",
       "    </tr>\n",
       "    <tr>\n",
       "      <th>3</th>\n",
       "      <td>זו לא הפעם הראשונה שאני מבקרת ברוסטיקו אך כל פ...</td>\n",
       "      <td>5</td>\n",
       "      <td>לפני שנה</td>\n",
       "    </tr>\n",
       "    <tr>\n",
       "      <th>4</th>\n",
       "      <td>אוכל מאוד טעים  ואווירה נהדרת..ישבנו בחוץ, ולמ...</td>\n",
       "      <td>5</td>\n",
       "      <td>לפני 8 חודשים</td>\n",
       "    </tr>\n",
       "    <tr>\n",
       "      <th>5</th>\n",
       "      <td>אוכל מאוד טעים  ואווירה נהדרת..ישבנו בחוץ, ולמ...</td>\n",
       "      <td>5</td>\n",
       "      <td>לפני 8 חודשים</td>\n",
       "    </tr>\n",
       "    <tr>\n",
       "      <th>6</th>\n",
       "      <td>האוכל היה מצוין אבל השרות איטי להכעיס. לפחות ה...</td>\n",
       "      <td>4</td>\n",
       "      <td>לפני 8 חודשים</td>\n",
       "    </tr>\n",
       "    <tr>\n",
       "      <th>7</th>\n",
       "      <td>האוכל היה מצוין אבל השרות איטי להכעיס. לפחות ה...</td>\n",
       "      <td>4</td>\n",
       "      <td>לפני 8 חודשים</td>\n",
       "    </tr>\n",
       "    <tr>\n",
       "      <th>8</th>\n",
       "      <td>מקום חמוד, חלק מהאוכל היה מעולה וחלק טעון שיפו...</td>\n",
       "      <td>3</td>\n",
       "      <td>לפני שנה</td>\n",
       "    </tr>\n",
       "    <tr>\n",
       "      <th>9</th>\n",
       "      <td>מקום חמוד, חלק מהאוכל היה מעולה וחלק טעון שיפו...</td>\n",
       "      <td>3</td>\n",
       "      <td>לפני שנה</td>\n",
       "    </tr>\n",
       "    <tr>\n",
       "      <th>10</th>\n",
       "      <td>נתחיל בזה שהשירות מעולה- מקצועי, אדיב ונעים.\\n...</td>\n",
       "      <td>4</td>\n",
       "      <td>לפני שנה</td>\n",
       "    </tr>\n",
       "    <tr>\n",
       "      <th>11</th>\n",
       "      <td>נתחיל בזה שהשירות מעולה- מקצועי, אדיב ונעים.\\n...</td>\n",
       "      <td>4</td>\n",
       "      <td>לפני שנה</td>\n",
       "    </tr>\n",
       "    <tr>\n",
       "      <th>12</th>\n",
       "      <td>תמיד כיף לאכול את המנות האהובות.\\nאני חייבת לצ...</td>\n",
       "      <td>4</td>\n",
       "      <td>לפני שנה</td>\n",
       "    </tr>\n",
       "    <tr>\n",
       "      <th>13</th>\n",
       "      <td>תמיד כיף לאכול את המנות האהובות.\\nאני חייבת לצ...</td>\n",
       "      <td>4</td>\n",
       "      <td>לפני שנה</td>\n",
       "    </tr>\n",
       "    <tr>\n",
       "      <th>14</th>\n",
       "      <td>אוהבים מאד את רשת רוסטיקו,אוכלים הרבה בכל הסני...</td>\n",
       "      <td>4</td>\n",
       "      <td>לפני שנה</td>\n",
       "    </tr>\n",
       "    <tr>\n",
       "      <th>15</th>\n",
       "      <td>אוהבים מאד את רשת רוסטיקו,אוכלים הרבה בכל הסני...</td>\n",
       "      <td>4</td>\n",
       "      <td>לפני שנה</td>\n",
       "    </tr>\n",
       "    <tr>\n",
       "      <th>16</th>\n",
       "      <td>מנות הרמה גבוהה . טעים מאוד שירות טוב מיקום סב...</td>\n",
       "      <td>5</td>\n",
       "      <td>לפני 7 חודשים</td>\n",
       "    </tr>\n",
       "    <tr>\n",
       "      <th>17</th>\n",
       "      <td>מנות הרמה גבוהה . טעים מאוד שירות טוב מיקום סב...</td>\n",
       "      <td>5</td>\n",
       "      <td>לפני 7 חודשים</td>\n",
       "    </tr>\n",
       "    <tr>\n",
       "      <th>18</th>\n",
       "      <td>מקום יפהפה, מרווח. יש מקומות ישיבה בחוץ ובפנים...</td>\n",
       "      <td>5</td>\n",
       "      <td>לפני שנה</td>\n",
       "    </tr>\n",
       "    <tr>\n",
       "      <th>19</th>\n",
       "      <td>מקום יפהפה, מרווח. יש מקומות ישיבה בחוץ ובפנים...</td>\n",
       "      <td>5</td>\n",
       "      <td>לפני שנה</td>\n",
       "    </tr>\n",
       "    <tr>\n",
       "      <th>20</th>\n",
       "      <td>מסעדה קסומה, אווירה קסומה ונהדרת, מנות טעימות ...</td>\n",
       "      <td>5</td>\n",
       "      <td>לפני 2 שנים</td>\n",
       "    </tr>\n",
       "    <tr>\n",
       "      <th>21</th>\n",
       "      <td>מסעדה קסומה, אווירה קסומה ונהדרת, מנות טעימות ...</td>\n",
       "      <td>5</td>\n",
       "      <td>לפני 2 שנים</td>\n",
       "    </tr>\n",
       "    <tr>\n",
       "      <th>22</th>\n",
       "      <td>מסעדה מושלמת!\\nאווירה מהממת, שירות כיף ואוכל מ...</td>\n",
       "      <td>5</td>\n",
       "      <td>לפני 10 חודשים</td>\n",
       "    </tr>\n",
       "    <tr>\n",
       "      <th>23</th>\n",
       "      <td>מסעדה מושלמת!\\nאווירה מהממת, שירות כיף ואוכל מ...</td>\n",
       "      <td>5</td>\n",
       "      <td>לפני 10 חודשים</td>\n",
       "    </tr>\n",
       "    <tr>\n",
       "      <th>24</th>\n",
       "      <td>האוכל היה אחלה,\\nהשירות היה אחלה,\\nהדבר היחידי...</td>\n",
       "      <td>4</td>\n",
       "      <td>לפני 2 שנים</td>\n",
       "    </tr>\n",
       "    <tr>\n",
       "      <th>25</th>\n",
       "      <td>האוכל היה אחלה,\\nהשירות היה אחלה,\\nהדבר היחידי...</td>\n",
       "      <td>4</td>\n",
       "      <td>לפני 2 שנים</td>\n",
       "    </tr>\n",
       "    <tr>\n",
       "      <th>26</th>\n",
       "      <td>ביקרנו היום הרוסטיקו..\\nהזמנו 2 עסקיות + קינוח...</td>\n",
       "      <td>4</td>\n",
       "      <td>לפני 5 שנים</td>\n",
       "    </tr>\n",
       "    <tr>\n",
       "      <th>27</th>\n",
       "      <td>ביקרנו היום הרוסטיקו..\\nהזמנו 2 עסקיות + קינוח...</td>\n",
       "      <td>4</td>\n",
       "      <td>לפני 5 שנים</td>\n",
       "    </tr>\n",
       "    <tr>\n",
       "      <th>28</th>\n",
       "      <td>המקום יפה והשירות נחמד האוכל טעים ולא יותר\\nהז...</td>\n",
       "      <td>3</td>\n",
       "      <td>לפני 4 שנים</td>\n",
       "    </tr>\n",
       "    <tr>\n",
       "      <th>29</th>\n",
       "      <td>המקום יפה והשירות נחמד האוכל טעים ולא יותר\\nהז...</td>\n",
       "      <td>3</td>\n",
       "      <td>לפני 4 שנים</td>\n",
       "    </tr>\n",
       "    <tr>\n",
       "      <th>30</th>\n",
       "      <td>מסעדה איטלקית טובה\\nמנות גדולות, טעימות\\nמבחר ...</td>\n",
       "      <td>5</td>\n",
       "      <td>לפני 9 חודשים</td>\n",
       "    </tr>\n",
       "    <tr>\n",
       "      <th>31</th>\n",
       "      <td>מסעדה איטלקית טובה\\nמנות גדולות, טעימות\\nמבחר ...</td>\n",
       "      <td>5</td>\n",
       "      <td>לפני 9 חודשים</td>\n",
       "    </tr>\n",
       "    <tr>\n",
       "      <th>32</th>\n",
       "      <td>מסעדה עם מנות גדולות וטעימות, טעמנו מכל המנות ...</td>\n",
       "      <td>5</td>\n",
       "      <td>לפני שנה</td>\n",
       "    </tr>\n",
       "    <tr>\n",
       "      <th>33</th>\n",
       "      <td>מסעדה עם מנות גדולות וטעימות, טעמנו מכל המנות ...</td>\n",
       "      <td>5</td>\n",
       "      <td>לפני שנה</td>\n",
       "    </tr>\n",
       "    <tr>\n",
       "      <th>34</th>\n",
       "      <td>הזמנו מנה ב-77 שח והגודל היה פשוט בדיחה.\\nצלחת...</td>\n",
       "      <td>1</td>\n",
       "      <td>לפני 8 חודשים</td>\n",
       "    </tr>\n",
       "    <tr>\n",
       "      <th>35</th>\n",
       "      <td>הזמנו מנה ב-77 שח והגודל היה פשוט בדיחה.\\nצלחת...</td>\n",
       "      <td>1</td>\n",
       "      <td>לפני 8 חודשים</td>\n",
       "    </tr>\n",
       "    <tr>\n",
       "      <th>36</th>\n",
       "      <td>סניף נהדר עם שירות שהוא תמיד טוב, דואג, נדיב ו...</td>\n",
       "      <td>4</td>\n",
       "      <td>לפני 11 חודשים</td>\n",
       "    </tr>\n",
       "    <tr>\n",
       "      <th>37</th>\n",
       "      <td>סניף נהדר עם שירות שהוא תמיד טוב, דואג, נדיב ו...</td>\n",
       "      <td>4</td>\n",
       "      <td>לפני 11 חודשים</td>\n",
       "    </tr>\n",
       "    <tr>\n",
       "      <th>38</th>\n",
       "      <td>מסעדה איטלקית עם אווירה מיוחדת ונעימה, ישבנו ע...</td>\n",
       "      <td>5</td>\n",
       "      <td>לפני 2 שנים</td>\n",
       "    </tr>\n",
       "    <tr>\n",
       "      <th>39</th>\n",
       "      <td>מסעדה איטלקית עם אווירה מיוחדת ונעימה, ישבנו ע...</td>\n",
       "      <td>5</td>\n",
       "      <td>לפני 2 שנים</td>\n",
       "    </tr>\n",
       "  </tbody>\n",
       "</table>\n",
       "</div>"
      ],
      "text/plain": [
       "                                          text_review stars            time\n",
       "0   הגענו אני ובעלי לחגוג לו יום הולדת במקום.\\nצוו...     5   לפני 6 חודשים\n",
       "1   הגענו אני ובעלי לחגוג לו יום הולדת במקום.\\nצוו...     5   לפני 6 חודשים\n",
       "2   זו לא הפעם הראשונה שאני מבקרת ברוסטיקו אך כל פ...     5        לפני שנה\n",
       "3   זו לא הפעם הראשונה שאני מבקרת ברוסטיקו אך כל פ...     5        לפני שנה\n",
       "4   אוכל מאוד טעים  ואווירה נהדרת..ישבנו בחוץ, ולמ...     5   לפני 8 חודשים\n",
       "5   אוכל מאוד טעים  ואווירה נהדרת..ישבנו בחוץ, ולמ...     5   לפני 8 חודשים\n",
       "6   האוכל היה מצוין אבל השרות איטי להכעיס. לפחות ה...     4   לפני 8 חודשים\n",
       "7   האוכל היה מצוין אבל השרות איטי להכעיס. לפחות ה...     4   לפני 8 חודשים\n",
       "8   מקום חמוד, חלק מהאוכל היה מעולה וחלק טעון שיפו...     3        לפני שנה\n",
       "9   מקום חמוד, חלק מהאוכל היה מעולה וחלק טעון שיפו...     3        לפני שנה\n",
       "10  נתחיל בזה שהשירות מעולה- מקצועי, אדיב ונעים.\\n...     4        לפני שנה\n",
       "11  נתחיל בזה שהשירות מעולה- מקצועי, אדיב ונעים.\\n...     4        לפני שנה\n",
       "12  תמיד כיף לאכול את המנות האהובות.\\nאני חייבת לצ...     4        לפני שנה\n",
       "13  תמיד כיף לאכול את המנות האהובות.\\nאני חייבת לצ...     4        לפני שנה\n",
       "14  אוהבים מאד את רשת רוסטיקו,אוכלים הרבה בכל הסני...     4        לפני שנה\n",
       "15  אוהבים מאד את רשת רוסטיקו,אוכלים הרבה בכל הסני...     4        לפני שנה\n",
       "16  מנות הרמה גבוהה . טעים מאוד שירות טוב מיקום סב...     5   לפני 7 חודשים\n",
       "17  מנות הרמה גבוהה . טעים מאוד שירות טוב מיקום סב...     5   לפני 7 חודשים\n",
       "18  מקום יפהפה, מרווח. יש מקומות ישיבה בחוץ ובפנים...     5        לפני שנה\n",
       "19  מקום יפהפה, מרווח. יש מקומות ישיבה בחוץ ובפנים...     5        לפני שנה\n",
       "20  מסעדה קסומה, אווירה קסומה ונהדרת, מנות טעימות ...     5     לפני 2 שנים\n",
       "21  מסעדה קסומה, אווירה קסומה ונהדרת, מנות טעימות ...     5     לפני 2 שנים\n",
       "22  מסעדה מושלמת!\\nאווירה מהממת, שירות כיף ואוכל מ...     5  לפני 10 חודשים\n",
       "23  מסעדה מושלמת!\\nאווירה מהממת, שירות כיף ואוכל מ...     5  לפני 10 חודשים\n",
       "24  האוכל היה אחלה,\\nהשירות היה אחלה,\\nהדבר היחידי...     4     לפני 2 שנים\n",
       "25  האוכל היה אחלה,\\nהשירות היה אחלה,\\nהדבר היחידי...     4     לפני 2 שנים\n",
       "26  ביקרנו היום הרוסטיקו..\\nהזמנו 2 עסקיות + קינוח...     4     לפני 5 שנים\n",
       "27  ביקרנו היום הרוסטיקו..\\nהזמנו 2 עסקיות + קינוח...     4     לפני 5 שנים\n",
       "28  המקום יפה והשירות נחמד האוכל טעים ולא יותר\\nהז...     3     לפני 4 שנים\n",
       "29  המקום יפה והשירות נחמד האוכל טעים ולא יותר\\nהז...     3     לפני 4 שנים\n",
       "30  מסעדה איטלקית טובה\\nמנות גדולות, טעימות\\nמבחר ...     5   לפני 9 חודשים\n",
       "31  מסעדה איטלקית טובה\\nמנות גדולות, טעימות\\nמבחר ...     5   לפני 9 חודשים\n",
       "32  מסעדה עם מנות גדולות וטעימות, טעמנו מכל המנות ...     5        לפני שנה\n",
       "33  מסעדה עם מנות גדולות וטעימות, טעמנו מכל המנות ...     5        לפני שנה\n",
       "34  הזמנו מנה ב-77 שח והגודל היה פשוט בדיחה.\\nצלחת...     1   לפני 8 חודשים\n",
       "35  הזמנו מנה ב-77 שח והגודל היה פשוט בדיחה.\\nצלחת...     1   לפני 8 חודשים\n",
       "36  סניף נהדר עם שירות שהוא תמיד טוב, דואג, נדיב ו...     4  לפני 11 חודשים\n",
       "37  סניף נהדר עם שירות שהוא תמיד טוב, דואג, נדיב ו...     4  לפני 11 חודשים\n",
       "38  מסעדה איטלקית עם אווירה מיוחדת ונעימה, ישבנו ע...     5     לפני 2 שנים\n",
       "39  מסעדה איטלקית עם אווירה מיוחדת ונעימה, ישבנו ע...     5     לפני 2 שנים"
      ]
     },
     "execution_count": 8,
     "metadata": {},
     "output_type": "execute_result"
    }
   ],
   "source": [
    "print(f'Rating: {df.stars.mean()} ')\n",
    "df"
   ]
  },
  {
   "cell_type": "markdown",
   "metadata": {},
   "source": [
    "### Do the same process using our DataLoader"
   ]
  },
  {
   "cell_type": "code",
   "execution_count": 14,
   "metadata": {},
   "outputs": [],
   "source": [
    "url = 'https://maps.app.goo.gl/geQwCeu2riPkrSqt8'\n"
   ]
  },
  {
   "cell_type": "code",
   "execution_count": 15,
   "metadata": {},
   "outputs": [],
   "source": [
    "from scraper import DataLoader\n",
    "\n",
    "loader = DataLoader(url)"
   ]
  },
  {
   "cell_type": "code",
   "execution_count": 16,
   "metadata": {},
   "outputs": [],
   "source": [
    "loader.navigate()"
   ]
  },
  {
   "cell_type": "code",
   "execution_count": 18,
   "metadata": {},
   "outputs": [
    {
     "name": "stdout",
     "output_type": "stream",
     "text": [
      "the type of each review is: <class 'selenium.webdriver.remote.webelement.WebElement'>\n",
      "Rating: 4.3 \n"
     ]
    },
    {
     "data": {
      "text/html": [
       "<div>\n",
       "<style scoped>\n",
       "    .dataframe tbody tr th:only-of-type {\n",
       "        vertical-align: middle;\n",
       "    }\n",
       "\n",
       "    .dataframe tbody tr th {\n",
       "        vertical-align: top;\n",
       "    }\n",
       "\n",
       "    .dataframe thead th {\n",
       "        text-align: right;\n",
       "    }\n",
       "</style>\n",
       "<table border=\"1\" class=\"dataframe\">\n",
       "  <thead>\n",
       "    <tr style=\"text-align: right;\">\n",
       "      <th></th>\n",
       "      <th>text_review</th>\n",
       "      <th>stars</th>\n",
       "      <th>time</th>\n",
       "    </tr>\n",
       "  </thead>\n",
       "  <tbody>\n",
       "    <tr>\n",
       "      <th>0</th>\n",
       "      <td>הגענו אני ובעלי לחגוג לו יום הולדת במקום.\\nצוו...</td>\n",
       "      <td>5</td>\n",
       "      <td>לפני 5 חודשים</td>\n",
       "    </tr>\n",
       "    <tr>\n",
       "      <th>1</th>\n",
       "      <td>הגענו אני ובעלי לחגוג לו יום הולדת במקום.\\nצוו...</td>\n",
       "      <td>5</td>\n",
       "      <td>לפני 5 חודשים</td>\n",
       "    </tr>\n",
       "    <tr>\n",
       "      <th>2</th>\n",
       "      <td>זו לא הפעם הראשונה שאני מבקרת ברוסטיקו אך כל פ...</td>\n",
       "      <td>5</td>\n",
       "      <td>לפני שנה</td>\n",
       "    </tr>\n",
       "    <tr>\n",
       "      <th>3</th>\n",
       "      <td>זו לא הפעם הראשונה שאני מבקרת ברוסטיקו אך כל פ...</td>\n",
       "      <td>5</td>\n",
       "      <td>לפני שנה</td>\n",
       "    </tr>\n",
       "    <tr>\n",
       "      <th>4</th>\n",
       "      <td>אוכל מאוד טעים  ואווירה נהדרת..ישבנו בחוץ, ולמ...</td>\n",
       "      <td>5</td>\n",
       "      <td>לפני 8 חודשים</td>\n",
       "    </tr>\n",
       "    <tr>\n",
       "      <th>5</th>\n",
       "      <td>אוכל מאוד טעים  ואווירה נהדרת..ישבנו בחוץ, ולמ...</td>\n",
       "      <td>5</td>\n",
       "      <td>לפני 8 חודשים</td>\n",
       "    </tr>\n",
       "    <tr>\n",
       "      <th>6</th>\n",
       "      <td>האוכל היה מצוין אבל השרות איטי להכעיס. לפחות ה...</td>\n",
       "      <td>4</td>\n",
       "      <td>לפני 8 חודשים</td>\n",
       "    </tr>\n",
       "    <tr>\n",
       "      <th>7</th>\n",
       "      <td>האוכל היה מצוין אבל השרות איטי להכעיס. לפחות ה...</td>\n",
       "      <td>4</td>\n",
       "      <td>לפני 8 חודשים</td>\n",
       "    </tr>\n",
       "    <tr>\n",
       "      <th>8</th>\n",
       "      <td>מקום חמוד, חלק מהאוכל היה מעולה וחלק טעון שיפו...</td>\n",
       "      <td>3</td>\n",
       "      <td>לפני שנה</td>\n",
       "    </tr>\n",
       "    <tr>\n",
       "      <th>9</th>\n",
       "      <td>מקום חמוד, חלק מהאוכל היה מעולה וחלק טעון שיפו...</td>\n",
       "      <td>3</td>\n",
       "      <td>לפני שנה</td>\n",
       "    </tr>\n",
       "    <tr>\n",
       "      <th>10</th>\n",
       "      <td>נתחיל בזה שהשירות מעולה- מקצועי, אדיב ונעים.\\n...</td>\n",
       "      <td>4</td>\n",
       "      <td>לפני שנה</td>\n",
       "    </tr>\n",
       "    <tr>\n",
       "      <th>11</th>\n",
       "      <td>נתחיל בזה שהשירות מעולה- מקצועי, אדיב ונעים.\\n...</td>\n",
       "      <td>4</td>\n",
       "      <td>לפני שנה</td>\n",
       "    </tr>\n",
       "    <tr>\n",
       "      <th>12</th>\n",
       "      <td>תמיד כיף לאכול את המנות האהובות.\\nאני חייבת לצ...</td>\n",
       "      <td>4</td>\n",
       "      <td>לפני שנה</td>\n",
       "    </tr>\n",
       "    <tr>\n",
       "      <th>13</th>\n",
       "      <td>תמיד כיף לאכול את המנות האהובות.\\nאני חייבת לצ...</td>\n",
       "      <td>4</td>\n",
       "      <td>לפני שנה</td>\n",
       "    </tr>\n",
       "    <tr>\n",
       "      <th>14</th>\n",
       "      <td>אוהבים מאד את רשת רוסטיקו,אוכלים הרבה בכל הסני...</td>\n",
       "      <td>4</td>\n",
       "      <td>לפני שנה</td>\n",
       "    </tr>\n",
       "    <tr>\n",
       "      <th>15</th>\n",
       "      <td>אוהבים מאד את רשת רוסטיקו,אוכלים הרבה בכל הסני...</td>\n",
       "      <td>4</td>\n",
       "      <td>לפני שנה</td>\n",
       "    </tr>\n",
       "    <tr>\n",
       "      <th>16</th>\n",
       "      <td>מנות הרמה גבוהה . טעים מאוד שירות טוב מיקום סב...</td>\n",
       "      <td>5</td>\n",
       "      <td>לפני 6 חודשים</td>\n",
       "    </tr>\n",
       "    <tr>\n",
       "      <th>17</th>\n",
       "      <td>מנות הרמה גבוהה . טעים מאוד שירות טוב מיקום סב...</td>\n",
       "      <td>5</td>\n",
       "      <td>לפני 6 חודשים</td>\n",
       "    </tr>\n",
       "    <tr>\n",
       "      <th>18</th>\n",
       "      <td>סניף נהדר עם שירות שהוא תמיד טוב, דואג, נדיב ו...</td>\n",
       "      <td>4</td>\n",
       "      <td>לפני 11 חודשים</td>\n",
       "    </tr>\n",
       "    <tr>\n",
       "      <th>19</th>\n",
       "      <td>סניף נהדר עם שירות שהוא תמיד טוב, דואג, נדיב ו...</td>\n",
       "      <td>4</td>\n",
       "      <td>לפני 11 חודשים</td>\n",
       "    </tr>\n",
       "  </tbody>\n",
       "</table>\n",
       "</div>"
      ],
      "text/plain": [
       "                                          text_review stars            time\n",
       "0   הגענו אני ובעלי לחגוג לו יום הולדת במקום.\\nצוו...     5   לפני 5 חודשים\n",
       "1   הגענו אני ובעלי לחגוג לו יום הולדת במקום.\\nצוו...     5   לפני 5 חודשים\n",
       "2   זו לא הפעם הראשונה שאני מבקרת ברוסטיקו אך כל פ...     5        לפני שנה\n",
       "3   זו לא הפעם הראשונה שאני מבקרת ברוסטיקו אך כל פ...     5        לפני שנה\n",
       "4   אוכל מאוד טעים  ואווירה נהדרת..ישבנו בחוץ, ולמ...     5   לפני 8 חודשים\n",
       "5   אוכל מאוד טעים  ואווירה נהדרת..ישבנו בחוץ, ולמ...     5   לפני 8 חודשים\n",
       "6   האוכל היה מצוין אבל השרות איטי להכעיס. לפחות ה...     4   לפני 8 חודשים\n",
       "7   האוכל היה מצוין אבל השרות איטי להכעיס. לפחות ה...     4   לפני 8 חודשים\n",
       "8   מקום חמוד, חלק מהאוכל היה מעולה וחלק טעון שיפו...     3        לפני שנה\n",
       "9   מקום חמוד, חלק מהאוכל היה מעולה וחלק טעון שיפו...     3        לפני שנה\n",
       "10  נתחיל בזה שהשירות מעולה- מקצועי, אדיב ונעים.\\n...     4        לפני שנה\n",
       "11  נתחיל בזה שהשירות מעולה- מקצועי, אדיב ונעים.\\n...     4        לפני שנה\n",
       "12  תמיד כיף לאכול את המנות האהובות.\\nאני חייבת לצ...     4        לפני שנה\n",
       "13  תמיד כיף לאכול את המנות האהובות.\\nאני חייבת לצ...     4        לפני שנה\n",
       "14  אוהבים מאד את רשת רוסטיקו,אוכלים הרבה בכל הסני...     4        לפני שנה\n",
       "15  אוהבים מאד את רשת רוסטיקו,אוכלים הרבה בכל הסני...     4        לפני שנה\n",
       "16  מנות הרמה גבוהה . טעים מאוד שירות טוב מיקום סב...     5   לפני 6 חודשים\n",
       "17  מנות הרמה גבוהה . טעים מאוד שירות טוב מיקום סב...     5   לפני 6 חודשים\n",
       "18  סניף נהדר עם שירות שהוא תמיד טוב, דואג, נדיב ו...     4  לפני 11 חודשים\n",
       "19  סניף נהדר עם שירות שהוא תמיד טוב, דואג, נדיב ו...     4  לפני 11 חודשים"
      ]
     },
     "execution_count": 18,
     "metadata": {},
     "output_type": "execute_result"
    }
   ],
   "source": [
    "loader.create_reviews_df()\n",
    "print(f'Rating: {loader.df.stars.mean()} ')\n",
    "loader.df"
   ]
  },
  {
   "cell_type": "code",
   "execution_count": null,
   "metadata": {},
   "outputs": [],
   "source": []
  },
  {
   "cell_type": "code",
   "execution_count": null,
   "metadata": {},
   "outputs": [],
   "source": []
  },
  {
   "cell_type": "code",
   "execution_count": null,
   "metadata": {},
   "outputs": [],
   "source": []
  },
  {
   "cell_type": "code",
   "execution_count": null,
   "metadata": {},
   "outputs": [],
   "source": []
  }
 ],
 "metadata": {
  "kernelspec": {
   "display_name": "dana",
   "language": "python",
   "name": "python3"
  },
  "language_info": {
   "codemirror_mode": {
    "name": "ipython",
    "version": 3
   },
   "file_extension": ".py",
   "mimetype": "text/x-python",
   "name": "python",
   "nbconvert_exporter": "python",
   "pygments_lexer": "ipython3",
   "version": "3.11.5"
  }
 },
 "nbformat": 4,
 "nbformat_minor": 2
}
